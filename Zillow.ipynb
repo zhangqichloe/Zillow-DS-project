{
 "cells": [
  {
   "cell_type": "markdown",
   "metadata": {},
   "source": [
    "## 0. Background"
   ]
  },
  {
   "cell_type": "markdown",
   "metadata": {},
   "source": [
    "Zillow is the largest digital inventory and estimation of American homes in the world. From the Zillow website, the Zestimate home valuation model is Zillow's estimate of a home's market value which incorporates public and user-submitted data, taking into account home faces, location and market conditions."
   ]
  },
  {
   "cell_type": "markdown",
   "metadata": {},
   "source": []
  },
  {
   "cell_type": "markdown",
   "metadata": {},
   "source": []
  },
  {
   "cell_type": "markdown",
   "metadata": {},
   "source": []
  },
  {
   "cell_type": "markdown",
   "metadata": {},
   "source": [
    "## 1. Introduction"
   ]
  },
  {
   "cell_type": "markdown",
   "metadata": {},
   "source": [
    "This project is to construct a model to predict a home's current market value, and it is a Regression problem.\n"
   ]
  },
  {
   "cell_type": "markdown",
   "metadata": {},
   "source": [
    "## 2. Import package"
   ]
  },
  {
   "cell_type": "code",
   "execution_count": 2,
   "metadata": {},
   "outputs": [],
   "source": [
    "import numpy as np\n",
    "import pandas as pd\n",
    "import seaborn as sns\n",
    "%matplotlib inline\n",
    "import matplotlib.pyplot as plt\n",
    "import warnings\n",
    "warnings.filterwarnings('ignore')\n",
    "from sklearn import preprocessing\n",
    "from sklearn.model_selection import train_test_split\n",
    "from sklearn.linear_model import LinearRegression\n",
    "from sklearn.metrics import mean_squared_error\n",
    "from sklearn.cluster import KMeans\n",
    "from sklearn.ensemble import RandomForestRegressor"
   ]
  },
  {
   "cell_type": "markdown",
   "metadata": {},
   "source": [
    "## 3. Read the data"
   ]
  },
  {
   "cell_type": "code",
   "execution_count": 14,
   "metadata": {
    "scrolled": true
   },
   "outputs": [],
   "source": [
    "train = pd.read_csv('train_2016_v2.csv')\n",
    "properties = pd.read_csv('properties_2016.csv')\n",
    "sample = pd.read_csv('sample_submission.csv')\n",
    "#data_17 = pd.read_csv('train_2017.csv')\n",
    "#properties_17 = pd.read_csv('properties_2017.csv')"
   ]
  },
  {
   "cell_type": "code",
   "execution_count": 11,
   "metadata": {
    "scrolled": true
   },
   "outputs": [
    {
     "name": "stdout",
     "output_type": "stream",
     "text": [
      "Training Size:(90275, 3)\n",
      "Property Size:(2985217, 58)\n"
     ]
    }
   ],
   "source": [
    "print('Training Size:' + str(train.shape))\n",
    "print('Property Size:' + str(properties.shape))\n",
    "#print('Sample Size:' + str(test.shape))"
   ]
  },
  {
   "cell_type": "code",
   "execution_count": 4,
   "metadata": {},
   "outputs": [],
   "source": [
    "#Convert the dataset\n",
    "for c, dtype in zip(properties.columns, properties.dtypes):\n",
    "    if dtype == np.float64:\n",
    "        properties[c] = properties[c].astype(np.float32)\n",
    "    if dtype == np.int64:\n",
    "        properties[c] = properties[c].astype(np.int32)"
   ]
  },
  {
   "cell_type": "code",
   "execution_count": 12,
   "metadata": {},
   "outputs": [],
   "source": [
    "#for c in test.columns:\n",
    "    #if test[c].dtype == int:\n",
    "        #test[c] = test[c].astype(np.int32)\n",
    "    #if test[c].dtype == float:\n",
    "        #test[c] = test[c].astype(np.float32)"
   ]
  },
  {
   "cell_type": "code",
   "execution_count": 7,
   "metadata": {},
   "outputs": [],
   "source": [
    "for c in train.columns:\n",
    "    if train[c].dtype == int:\n",
    "        train[c] = train[c].astype(np.int32)\n",
    "    if train[c].dtype == float:\n",
    "        train[c] = train[c].astype(np.float32)"
   ]
  },
  {
   "cell_type": "markdown",
   "metadata": {
    "scrolled": true
   },
   "source": [
    "## 4. Overview of datasets"
   ]
  },
  {
   "cell_type": "code",
   "execution_count": 15,
   "metadata": {
    "scrolled": true
   },
   "outputs": [
    {
     "data": {
      "text/html": [
       "<div>\n",
       "<style scoped>\n",
       "    .dataframe tbody tr th:only-of-type {\n",
       "        vertical-align: middle;\n",
       "    }\n",
       "\n",
       "    .dataframe tbody tr th {\n",
       "        vertical-align: top;\n",
       "    }\n",
       "\n",
       "    .dataframe thead th {\n",
       "        text-align: right;\n",
       "    }\n",
       "</style>\n",
       "<table border=\"1\" class=\"dataframe\">\n",
       "  <thead>\n",
       "    <tr style=\"text-align: right;\">\n",
       "      <th></th>\n",
       "      <th>parcelid</th>\n",
       "      <th>logerror</th>\n",
       "      <th>transactiondate</th>\n",
       "    </tr>\n",
       "  </thead>\n",
       "  <tbody>\n",
       "    <tr>\n",
       "      <th>0</th>\n",
       "      <td>11016594</td>\n",
       "      <td>0.0276</td>\n",
       "      <td>2016-01-01</td>\n",
       "    </tr>\n",
       "    <tr>\n",
       "      <th>1</th>\n",
       "      <td>14366692</td>\n",
       "      <td>-0.1684</td>\n",
       "      <td>2016-01-01</td>\n",
       "    </tr>\n",
       "    <tr>\n",
       "      <th>2</th>\n",
       "      <td>12098116</td>\n",
       "      <td>-0.0040</td>\n",
       "      <td>2016-01-01</td>\n",
       "    </tr>\n",
       "  </tbody>\n",
       "</table>\n",
       "</div>"
      ],
      "text/plain": [
       "   parcelid  logerror transactiondate\n",
       "0  11016594    0.0276      2016-01-01\n",
       "1  14366692   -0.1684      2016-01-01\n",
       "2  12098116   -0.0040      2016-01-01"
      ]
     },
     "execution_count": 15,
     "metadata": {},
     "output_type": "execute_result"
    }
   ],
   "source": [
    "train.head(3)"
   ]
  },
  {
   "cell_type": "code",
   "execution_count": 13,
   "metadata": {
    "scrolled": false
   },
   "outputs": [
    {
     "data": {
      "text/html": [
       "<div>\n",
       "<style scoped>\n",
       "    .dataframe tbody tr th:only-of-type {\n",
       "        vertical-align: middle;\n",
       "    }\n",
       "\n",
       "    .dataframe tbody tr th {\n",
       "        vertical-align: top;\n",
       "    }\n",
       "\n",
       "    .dataframe thead th {\n",
       "        text-align: right;\n",
       "    }\n",
       "</style>\n",
       "<table border=\"1\" class=\"dataframe\">\n",
       "  <thead>\n",
       "    <tr style=\"text-align: right;\">\n",
       "      <th></th>\n",
       "      <th>parcelid</th>\n",
       "      <th>airconditioningtypeid</th>\n",
       "      <th>architecturalstyletypeid</th>\n",
       "      <th>basementsqft</th>\n",
       "      <th>bathroomcnt</th>\n",
       "      <th>bedroomcnt</th>\n",
       "      <th>buildingclasstypeid</th>\n",
       "      <th>buildingqualitytypeid</th>\n",
       "      <th>calculatedbathnbr</th>\n",
       "      <th>decktypeid</th>\n",
       "      <th>...</th>\n",
       "      <th>numberofstories</th>\n",
       "      <th>fireplaceflag</th>\n",
       "      <th>structuretaxvaluedollarcnt</th>\n",
       "      <th>taxvaluedollarcnt</th>\n",
       "      <th>assessmentyear</th>\n",
       "      <th>landtaxvaluedollarcnt</th>\n",
       "      <th>taxamount</th>\n",
       "      <th>taxdelinquencyflag</th>\n",
       "      <th>taxdelinquencyyear</th>\n",
       "      <th>censustractandblock</th>\n",
       "    </tr>\n",
       "  </thead>\n",
       "  <tbody>\n",
       "    <tr>\n",
       "      <th>0</th>\n",
       "      <td>10754147</td>\n",
       "      <td>NaN</td>\n",
       "      <td>NaN</td>\n",
       "      <td>NaN</td>\n",
       "      <td>0.0</td>\n",
       "      <td>0.0</td>\n",
       "      <td>NaN</td>\n",
       "      <td>NaN</td>\n",
       "      <td>NaN</td>\n",
       "      <td>NaN</td>\n",
       "      <td>...</td>\n",
       "      <td>NaN</td>\n",
       "      <td>NaN</td>\n",
       "      <td>NaN</td>\n",
       "      <td>9.0</td>\n",
       "      <td>2015.0</td>\n",
       "      <td>9.0</td>\n",
       "      <td>NaN</td>\n",
       "      <td>NaN</td>\n",
       "      <td>NaN</td>\n",
       "      <td>NaN</td>\n",
       "    </tr>\n",
       "    <tr>\n",
       "      <th>1</th>\n",
       "      <td>10759547</td>\n",
       "      <td>NaN</td>\n",
       "      <td>NaN</td>\n",
       "      <td>NaN</td>\n",
       "      <td>0.0</td>\n",
       "      <td>0.0</td>\n",
       "      <td>NaN</td>\n",
       "      <td>NaN</td>\n",
       "      <td>NaN</td>\n",
       "      <td>NaN</td>\n",
       "      <td>...</td>\n",
       "      <td>NaN</td>\n",
       "      <td>NaN</td>\n",
       "      <td>NaN</td>\n",
       "      <td>27516.0</td>\n",
       "      <td>2015.0</td>\n",
       "      <td>27516.0</td>\n",
       "      <td>NaN</td>\n",
       "      <td>NaN</td>\n",
       "      <td>NaN</td>\n",
       "      <td>NaN</td>\n",
       "    </tr>\n",
       "    <tr>\n",
       "      <th>2</th>\n",
       "      <td>10843547</td>\n",
       "      <td>NaN</td>\n",
       "      <td>NaN</td>\n",
       "      <td>NaN</td>\n",
       "      <td>0.0</td>\n",
       "      <td>0.0</td>\n",
       "      <td>NaN</td>\n",
       "      <td>NaN</td>\n",
       "      <td>NaN</td>\n",
       "      <td>NaN</td>\n",
       "      <td>...</td>\n",
       "      <td>NaN</td>\n",
       "      <td>NaN</td>\n",
       "      <td>650756.0</td>\n",
       "      <td>1413387.0</td>\n",
       "      <td>2015.0</td>\n",
       "      <td>762631.0</td>\n",
       "      <td>20800.369141</td>\n",
       "      <td>NaN</td>\n",
       "      <td>NaN</td>\n",
       "      <td>NaN</td>\n",
       "    </tr>\n",
       "  </tbody>\n",
       "</table>\n",
       "<p>3 rows × 58 columns</p>\n",
       "</div>"
      ],
      "text/plain": [
       "   parcelid  airconditioningtypeid  architecturalstyletypeid  basementsqft  \\\n",
       "0  10754147                    NaN                       NaN           NaN   \n",
       "1  10759547                    NaN                       NaN           NaN   \n",
       "2  10843547                    NaN                       NaN           NaN   \n",
       "\n",
       "   bathroomcnt  bedroomcnt  buildingclasstypeid  buildingqualitytypeid  \\\n",
       "0          0.0         0.0                  NaN                    NaN   \n",
       "1          0.0         0.0                  NaN                    NaN   \n",
       "2          0.0         0.0                  NaN                    NaN   \n",
       "\n",
       "   calculatedbathnbr  decktypeid  ...  numberofstories  fireplaceflag  \\\n",
       "0                NaN         NaN  ...              NaN            NaN   \n",
       "1                NaN         NaN  ...              NaN            NaN   \n",
       "2                NaN         NaN  ...              NaN            NaN   \n",
       "\n",
       "   structuretaxvaluedollarcnt  taxvaluedollarcnt  assessmentyear  \\\n",
       "0                         NaN                9.0          2015.0   \n",
       "1                         NaN            27516.0          2015.0   \n",
       "2                    650756.0          1413387.0          2015.0   \n",
       "\n",
       "   landtaxvaluedollarcnt     taxamount  taxdelinquencyflag  \\\n",
       "0                    9.0           NaN                 NaN   \n",
       "1                27516.0           NaN                 NaN   \n",
       "2               762631.0  20800.369141                 NaN   \n",
       "\n",
       "   taxdelinquencyyear  censustractandblock  \n",
       "0                 NaN                  NaN  \n",
       "1                 NaN                  NaN  \n",
       "2                 NaN                  NaN  \n",
       "\n",
       "[3 rows x 58 columns]"
      ]
     },
     "execution_count": 13,
     "metadata": {},
     "output_type": "execute_result"
    }
   ],
   "source": [
    "properties.head(3)"
   ]
  },
  {
   "cell_type": "code",
   "execution_count": 16,
   "metadata": {
    "scrolled": true
   },
   "outputs": [
    {
     "data": {
      "image/png": "[encoded data removed]",
      "text/plain": [
       "<Figure size 864x432 with 1 Axes>"
      ]
     },
     "metadata": {
      "needs_background": "light"
     },
     "output_type": "display_data"
    }
   ],
   "source": [
    "train['transactiondate'] = pd.to_datetime(train['transactiondate'])\n",
    "trans_month = train['transactiondate'].dt.month.value_counts()\n",
    "plt.figure(figsize=(12,6))\n",
    "sns.barplot(trans_month.index, trans_month.values, alpha = 0.8)\n",
    "plt.xlabel('Month',fontsize = 12)\n",
    "plt.ylabel('Number of transactions',fontsize = 12)\n",
    "plt.show()"
   ]
  },
  {
   "cell_type": "code",
   "execution_count": null,
   "metadata": {},
   "outputs": [],
   "source": []
  },
  {
   "cell_type": "code",
   "execution_count": 18,
   "metadata": {},
   "outputs": [],
   "source": [
    "#data['Month'] = data['transactiondate'].dt.month\n",
    "#train_month_16 = data_16[data_16['Month']<10]\n",
    "#test_month_16 = data_16[data_16['Month']>=10]"
   ]
  },
  {
   "cell_type": "code",
   "execution_count": 19,
   "metadata": {
    "scrolled": true
   },
   "outputs": [
    {
     "data": {
      "text/plain": [
       "parcelid                        2985217\n",
       "airconditioningtypeid            811519\n",
       "architecturalstyletypeid           6061\n",
       "basementsqft                       1628\n",
       "bathroomcnt                     2973755\n",
       "bedroomcnt                      2973767\n",
       "buildingclasstypeid               12629\n",
       "buildingqualitytypeid           1938488\n",
       "calculatedbathnbr               2856305\n",
       "decktypeid                        17096\n",
       "finishedfloor1squarefeet         202717\n",
       "calculatedfinishedsquarefeet    2929652\n",
       "finishedsquarefeet12            2709184\n",
       "finishedsquarefeet13               7672\n",
       "finishedsquarefeet15             190798\n",
       "finishedsquarefeet50             202717\n",
       "finishedsquarefeet6               22001\n",
       "fips                            2973780\n",
       "fireplacecnt                     312637\n",
       "fullbathcnt                     2856305\n",
       "garagecarcnt                     883267\n",
       "garagetotalsqft                  883267\n",
       "hashottuborspa                    69014\n",
       "heatingorsystemtypeid           1806401\n",
       "latitude                        2973780\n",
       "longitude                       2973780\n",
       "lotsizesquarefeet               2709118\n",
       "poolcnt                          517534\n",
       "poolsizesum                       27960\n",
       "pooltypeid10                      36939\n",
       "pooltypeid2                       32075\n",
       "pooltypeid7                      485459\n",
       "propertycountylandusecode       2972940\n",
       "propertylandusetypeid           2973780\n",
       "propertyzoningdesc              1978629\n",
       "rawcensustractandblock          2973780\n",
       "regionidcity                    2922372\n",
       "regionidcounty                  2973780\n",
       "regionidneighborhood            1156402\n",
       "regionidzip                     2971237\n",
       "roomcnt                         2973742\n",
       "storytypeid                        1624\n",
       "threequarterbathnbr              311631\n",
       "typeconstructiontypeid             6747\n",
       "unitcnt                         1977490\n",
       "yardbuildingsqft17                80355\n",
       "yardbuildingsqft26                 2647\n",
       "yearbuilt                       2925289\n",
       "numberofstories                  682069\n",
       "fireplaceflag                      5163\n",
       "structuretaxvaluedollarcnt      2930235\n",
       "taxvaluedollarcnt               2942667\n",
       "assessmentyear                  2973778\n",
       "landtaxvaluedollarcnt           2917484\n",
       "taxamount                       2953967\n",
       "taxdelinquencyflag                56462\n",
       "taxdelinquencyyear                56464\n",
       "censustractandblock             2910091\n",
       "dtype: int64"
      ]
     },
     "execution_count": 19,
     "metadata": {},
     "output_type": "execute_result"
    }
   ],
   "source": [
    "properties.count()"
   ]
  },
  {
   "cell_type": "markdown",
   "metadata": {},
   "source": [
    "## 5. Remove outliers"
   ]
  },
  {
   "cell_type": "code",
   "execution_count": 22,
   "metadata": {
    "scrolled": true
   },
   "outputs": [
    {
     "data": {
      "image/png": "[encoded data removed]",
      "text/plain": [
       "<Figure size 576x432 with 1 Axes>"
      ]
     },
     "metadata": {
      "needs_background": "light"
     },
     "output_type": "display_data"
    }
   ],
   "source": [
    "#Check target variable logerror\n",
    "plt.figure(figsize=(8,6))\n",
    "plt.scatter(range(train.shape[0]),np.sort(train.logerror.values))\n",
    "plt.xlabel('index',fontsize = 12)\n",
    "plt.ylabel('logerror',fontsize = 12)\n",
    "plt.show()"
   ]
  },
  {
   "cell_type": "markdown",
   "metadata": {},
   "source": [
    "The results are quite good,except some outliers. Let us check these outliers."
   ]
  },
  {
   "cell_type": "code",
   "execution_count": 23,
   "metadata": {},
   "outputs": [],
   "source": [
    "#exclude 0.5% of the data as outliers (see from the charts)\n",
    "train = train[train.logerror < train.logerror.quantile(0.9975)]\n",
    "train = train[train.logerror > train.logerror.quantile(0.0025)]"
   ]
  },
  {
   "cell_type": "code",
   "execution_count": 24,
   "metadata": {
    "scrolled": true
   },
   "outputs": [
    {
     "data": {
      "image/png": "[encoded data removed]",
      "text/plain": [
       "<Figure size 576x432 with 1 Axes>"
      ]
     },
     "metadata": {
      "needs_background": "light"
     },
     "output_type": "display_data"
    }
   ],
   "source": [
    "plt.figure(figsize=(8,6))\n",
    "plt.scatter(range(train.shape[0]),np.sort(train.logerror.values))\n",
    "plt.xlabel('index',fontsize = 12)\n",
    "plt.ylabel('logerror',fontsize = 12)\n",
    "plt.show()"
   ]
  },
  {
   "cell_type": "markdown",
   "metadata": {},
   "source": [
    "## 6. Log-transform the target"
   ]
  },
  {
   "cell_type": "code",
   "execution_count": 25,
   "metadata": {
    "scrolled": true
   },
   "outputs": [
    {
     "data": {
      "image/png": "[encoded data removed]",
      "text/plain": [
       "<Figure size 576x432 with 1 Axes>"
      ]
     },
     "metadata": {
      "needs_background": "light"
     },
     "output_type": "display_data"
    }
   ],
   "source": [
    "plt.figure(figsize = (8,6))\n",
    "sns.distplot(train.logerror,bins = 50,kde = False)\n",
    "plt.xlabel('logerror')\n",
    "plt.show()"
   ]
  },
  {
   "cell_type": "markdown",
   "metadata": {},
   "source": [
    "Logerror looks like normal distribution. (重要问题 : Why normality is important）"
   ]
  },
  {
   "cell_type": "markdown",
   "metadata": {},
   "source": [
    "## 7. Missing data imputation"
   ]
  },
  {
   "cell_type": "markdown",
   "metadata": {},
   "source": [
    "A lot of null values here. Let's take a look at them."
   ]
  },
  {
   "cell_type": "code",
   "execution_count": 27,
   "metadata": {},
   "outputs": [
    {
     "data": {
      "text/plain": [
       "11439"
      ]
     },
     "execution_count": 27,
     "metadata": {},
     "output_type": "execute_result"
    }
   ],
   "source": [
    "miss_per = properties.isnull().sum(axis = 1)/properties.shape[1]\n",
    "miss_per[miss_per>0.8].count() #bathroomcnt&bedroomcnt are all 0,but we have location info,maybe keep?"
   ]
  },
  {
   "cell_type": "code",
   "execution_count": 28,
   "metadata": {
    "scrolled": true
   },
   "outputs": [
    {
     "data": {
      "text/plain": [
       "11437"
      ]
     },
     "execution_count": 28,
     "metadata": {},
     "output_type": "execute_result"
    }
   ],
   "source": [
    "miss_per[miss_per>=0.98].count() #Only have parcelid so we can safely drop"
   ]
  },
  {
   "cell_type": "code",
   "execution_count": 29,
   "metadata": {},
   "outputs": [
    {
     "data": {
      "text/plain": [
       "(2973780, 58)"
      ]
     },
     "execution_count": 29,
     "metadata": {},
     "output_type": "execute_result"
    }
   ],
   "source": [
    "df_proper = properties[miss_per<0.98]\n",
    "df_proper.shape"
   ]
  },
  {
   "cell_type": "code",
   "execution_count": 30,
   "metadata": {
    "scrolled": true
   },
   "outputs": [
    {
     "data": {
      "text/plain": [
       "architecturalstyletypeid    0.997970\n",
       "basementsqft                0.999455\n",
       "buildingclasstypeid         0.995769\n",
       "decktypeid                  0.994273\n",
       "finishedsquarefeet13        0.997430\n",
       "finishedsquarefeet6         0.992630\n",
       "poolsizesum                 0.990634\n",
       "pooltypeid10                0.987626\n",
       "pooltypeid2                 0.989255\n",
       "storytypeid                 0.999456\n",
       "typeconstructiontypeid      0.997740\n",
       "yardbuildingsqft26          0.999113\n",
       "fireplaceflag               0.998270\n",
       "taxdelinquencyflag          0.981086\n",
       "taxdelinquencyyear          0.981085\n",
       "dtype: float64"
      ]
     },
     "execution_count": 30,
     "metadata": {},
     "output_type": "execute_result"
    }
   ],
   "source": [
    "col_miss = properties.isnull().sum(axis = 0)/properties.shape[0]\n",
    "col_miss[col_miss>0.98]"
   ]
  },
  {
   "cell_type": "markdown",
   "metadata": {},
   "source": [
    "### Take a look at the features with a lot of na"
   ]
  },
  {
   "cell_type": "markdown",
   "metadata": {},
   "source": [
    "### 7.1 Merge dataset"
   ]
  },
  {
   "cell_type": "code",
   "execution_count": 390,
   "metadata": {},
   "outputs": [],
   "source": [
    "df_16 = pd.merge(data_16,properties_16,on = 'parcelid',how = 'left',indicator = True) #properties中很多parcelid没有merge进来"
   ]
  },
  {
   "cell_type": "code",
   "execution_count": 391,
   "metadata": {
    "scrolled": true
   },
   "outputs": [
    {
     "data": {
      "text/plain": [
       "architecturalstyletypeid    0.997109\n",
       "basementsqft                0.999524\n",
       "buildingclasstypeid         0.999823\n",
       "decktypeid                  0.992711\n",
       "finishedsquarefeet13        0.999634\n",
       "finishedsquarefeet6         0.995336\n",
       "poolsizesum                 0.989266\n",
       "pooltypeid10                0.987139\n",
       "pooltypeid2                 0.986663\n",
       "storytypeid                 0.999524\n",
       "typeconstructiontypeid      0.996688\n",
       "yardbuildingsqft26          0.998948\n",
       "fireplaceflag               0.997541\n",
       "taxdelinquencyflag          0.980249\n",
       "taxdelinquencyyear          0.980249\n",
       "dtype: float64"
      ]
     },
     "execution_count": 391,
     "metadata": {},
     "output_type": "execute_result"
    }
   ],
   "source": [
    "col_miss = df_16.isnull().sum(axis = 0)/df_16.shape[0]\n",
    "col_miss[col_miss>0.98]"
   ]
  },
  {
   "cell_type": "code",
   "execution_count": 104,
   "metadata": {},
   "outputs": [
    {
     "data": {
      "text/plain": [
       "7.0     221\n",
       "8.0      16\n",
       "2.0      11\n",
       "21.0      8\n",
       "3.0       4\n",
       "10.0      1\n",
       "Name: architecturalstyletypeid, dtype: int64"
      ]
     },
     "execution_count": 104,
     "metadata": {},
     "output_type": "execute_result"
    }
   ],
   "source": [
    "#architecturalstyletypeid: Architectural style of the home (i.e. ranch, colonial, split-level, etc…)\n",
    "#This one is categorical \n",
    "df_16['architecturalstyletypeid'][df_16['architecturalstyletypeid'].notnull()].value_counts()"
   ]
  },
  {
   "cell_type": "code",
   "execution_count": 106,
   "metadata": {
    "scrolled": true
   },
   "outputs": [
    {
     "data": {
      "text/plain": [
       "1528.0    3\n",
       "1312.0    2\n",
       "700.0     2\n",
       "1210.0    1\n",
       "540.0     1\n",
       "184.0     1\n",
       "676.0     1\n",
       "198.0     1\n",
       "564.0     1\n",
       "690.0     1\n",
       "831.0     1\n",
       "1048.0    1\n",
       "557.0     1\n",
       "771.0     1\n",
       "1555.0    1\n",
       "671.0     1\n",
       "168.0     1\n",
       "330.0     1\n",
       "260.0     1\n",
       "312.0     1\n",
       "608.0     1\n",
       "760.0     1\n",
       "100.0     1\n",
       "579.0     1\n",
       "510.0     1\n",
       "234.0     1\n",
       "585.0     1\n",
       "196.0     1\n",
       "515.0     1\n",
       "493.0     1\n",
       "913.0     1\n",
       "238.0     1\n",
       "485.0     1\n",
       "1551.0    1\n",
       "616.0     1\n",
       "162.0     1\n",
       "802.0     1\n",
       "1350.0    1\n",
       "814.0     1\n",
       "Name: basementsqft, dtype: int64"
      ]
     },
     "execution_count": 106,
     "metadata": {},
     "output_type": "execute_result"
    }
   ],
   "source": [
    "#basementsqft：Finished living area below or partially below ground level\n",
    "#Na should be 0?\n",
    "df_16['basementsqft'][df_16['basementsqft'].notnull()].value_counts()"
   ]
  },
  {
   "cell_type": "code",
   "execution_count": 107,
   "metadata": {
    "scrolled": true
   },
   "outputs": [
    {
     "data": {
      "text/plain": [
       "4.0    16\n",
       "Name: buildingclasstypeid, dtype: int64"
      ]
     },
     "execution_count": 107,
     "metadata": {},
     "output_type": "execute_result"
    }
   ],
   "source": [
    "#buildingclasstypeid:The building framing type (steel frame, wood frame, concrete/brick) \n",
    "#This one is categorical, Na is just Na?\n",
    "df_16['buildingclasstypeid'][df_16['buildingclasstypeid'].notnull()].value_counts()"
   ]
  },
  {
   "cell_type": "code",
   "execution_count": 108,
   "metadata": {},
   "outputs": [
    {
     "data": {
      "text/plain": [
       "66.0    17096\n",
       "Name: decktypeid, dtype: int64"
      ]
     },
     "execution_count": 108,
     "metadata": {},
     "output_type": "execute_result"
    }
   ],
   "source": [
    "#decktypeid:Type of deck (if any) present on parcel\n",
    "#categorical..does this matter?\n",
    "#I think we can safely drop this feature\n",
    "properties_16['decktypeid'][properties_16['decktypeid'].notnull()].value_counts()"
   ]
  },
  {
   "cell_type": "code",
   "execution_count": 109,
   "metadata": {
    "scrolled": true
   },
   "outputs": [
    {
     "data": {
      "text/plain": [
       "1440.0    17\n",
       "1248.0     3\n",
       "1344.0     3\n",
       "1536.0     2\n",
       "1392.0     2\n",
       "1056.0     1\n",
       "1416.0     1\n",
       "1584.0     1\n",
       "1152.0     1\n",
       "1464.0     1\n",
       "1566.0     1\n",
       "Name: finishedsquarefeet13, dtype: int64"
      ]
     },
     "execution_count": 109,
     "metadata": {},
     "output_type": "execute_result"
    }
   ],
   "source": [
    "#finishedsquarefeet13:Perimeter  living area\n",
    "#Fill in with mean value is better\n",
    "df_16['finishedsquarefeet13'][df_16['finishedsquarefeet13'].notnull()].value_counts()"
   ]
  },
  {
   "cell_type": "code",
   "execution_count": 110,
   "metadata": {
    "scrolled": true
   },
   "outputs": [
    {
     "data": {
      "text/plain": [
       "720.0     5\n",
       "4442.0    4\n",
       "2180.0    3\n",
       "480.0     3\n",
       "3470.0    3\n",
       "2530.0    3\n",
       "3500.0    3\n",
       "572.0     3\n",
       "4345.0    3\n",
       "1794.0    2\n",
       "2172.0    2\n",
       "1904.0    2\n",
       "899.0     2\n",
       "824.0     2\n",
       "1248.0    2\n",
       "800.0     2\n",
       "1670.0    2\n",
       "924.0     2\n",
       "2628.0    2\n",
       "2647.0    2\n",
       "765.0     2\n",
       "1658.0    2\n",
       "3240.0    2\n",
       "1650.0    2\n",
       "1750.0    2\n",
       "1629.0    2\n",
       "2388.0    2\n",
       "1446.0    2\n",
       "4379.0    2\n",
       "3431.0    2\n",
       "         ..\n",
       "2277.0    1\n",
       "1471.0    1\n",
       "4452.0    1\n",
       "4446.0    1\n",
       "1843.0    1\n",
       "5229.0    1\n",
       "7224.0    1\n",
       "726.0     1\n",
       "531.0     1\n",
       "3432.0    1\n",
       "3554.0    1\n",
       "1878.0    1\n",
       "1556.0    1\n",
       "2428.0    1\n",
       "1228.0    1\n",
       "6338.0    1\n",
       "3388.0    1\n",
       "2075.0    1\n",
       "2430.0    1\n",
       "882.0     1\n",
       "3164.0    1\n",
       "1820.0    1\n",
       "1044.0    1\n",
       "3912.0    1\n",
       "1346.0    1\n",
       "1492.0    1\n",
       "4699.0    1\n",
       "731.0     1\n",
       "1006.0    1\n",
       "605.0     1\n",
       "Name: finishedsquarefeet6, Length: 360, dtype: int64"
      ]
     },
     "execution_count": 110,
     "metadata": {},
     "output_type": "execute_result"
    }
   ],
   "source": [
    "#finishedsquarefeet6：Base unfinished and finished area\n",
    "# What does this mean??\n",
    "df_16['finishedsquarefeet6'][df_16['finishedsquarefeet6'].notnull()].value_counts()"
   ]
  },
  {
   "cell_type": "code",
   "execution_count": 111,
   "metadata": {},
   "outputs": [
    {
     "data": {
      "text/plain": [
       "450.0     105\n",
       "400.0      41\n",
       "800.0      39\n",
       "500.0      36\n",
       "600.0      35\n",
       "512.0      30\n",
       "480.0      27\n",
       "648.0      18\n",
       "420.0      17\n",
       "525.0      15\n",
       "720.0      13\n",
       "640.0      12\n",
       "544.0      11\n",
       "448.0      11\n",
       "540.0      11\n",
       "360.0      11\n",
       "680.0      10\n",
       "700.0       9\n",
       "576.0       8\n",
       "560.0       8\n",
       "380.0       8\n",
       "510.0       8\n",
       "750.0       8\n",
       "405.0       8\n",
       "608.0       7\n",
       "684.0       7\n",
       "350.0       7\n",
       "570.0       7\n",
       "384.0       7\n",
       "300.0       7\n",
       "         ... \n",
       "343.0       1\n",
       "795.0       1\n",
       "714.0       1\n",
       "291.0       1\n",
       "513.0       1\n",
       "451.0       1\n",
       "367.0       1\n",
       "642.0       1\n",
       "546.0       1\n",
       "908.0       1\n",
       "442.0       1\n",
       "429.0       1\n",
       "294.0       1\n",
       "1020.0      1\n",
       "426.0       1\n",
       "1052.0      1\n",
       "851.0       1\n",
       "948.0       1\n",
       "623.0       1\n",
       "503.0       1\n",
       "971.0       1\n",
       "1125.0      1\n",
       "815.0       1\n",
       "647.0       1\n",
       "537.0       1\n",
       "893.0       1\n",
       "727.0       1\n",
       "649.0       1\n",
       "357.0       1\n",
       "690.0       1\n",
       "Name: poolsizesum, Length: 273, dtype: int64"
      ]
     },
     "execution_count": 111,
     "metadata": {},
     "output_type": "execute_result"
    }
   ],
   "source": [
    "#poolsizesum： Total square footage of all pools on property\n",
    "#Fill in with mean value\n",
    "df_16['poolsizesum'][df_16['poolsizesum'].notnull()].value_counts()"
   ]
  },
  {
   "cell_type": "code",
   "execution_count": 112,
   "metadata": {},
   "outputs": [
    {
     "data": {
      "text/plain": [
       "1.0    1161\n",
       "Name: pooltypeid10, dtype: int64"
      ]
     },
     "execution_count": 112,
     "metadata": {},
     "output_type": "execute_result"
    }
   ],
   "source": [
    "#pooltypeid10: Spa or Hot Tub\n",
    "#The na should be 0\n",
    "df_16['pooltypeid10'][df_16['pooltypeid10'].notnull()].value_counts()"
   ]
  },
  {
   "cell_type": "code",
   "execution_count": 113,
   "metadata": {},
   "outputs": [
    {
     "data": {
      "text/plain": [
       "1.0    1204\n",
       "Name: pooltypeid2, dtype: int64"
      ]
     },
     "execution_count": 113,
     "metadata": {},
     "output_type": "execute_result"
    }
   ],
   "source": [
    "# pooltypeid2: Pool with Spa/Hot Tub\n",
    "# The na should be 0?\n",
    "df_16['pooltypeid2'][df_16['pooltypeid2'].notnull()].value_counts()"
   ]
  },
  {
   "cell_type": "code",
   "execution_count": 114,
   "metadata": {},
   "outputs": [
    {
     "data": {
      "text/plain": [
       "7.0    43\n",
       "Name: storytypeid, dtype: int64"
      ]
     },
     "execution_count": 114,
     "metadata": {},
     "output_type": "execute_result"
    }
   ],
   "source": [
    "#storytypeid：Type of floors in a multi-story house (i.e. basement and main level, split-level, attic, etc.)\n",
    "#I don't know how to deal with the na\n",
    "df_16['storytypeid'][df_16['storytypeid'].notnull()].value_counts()"
   ]
  },
  {
   "cell_type": "code",
   "execution_count": 115,
   "metadata": {
    "scrolled": true
   },
   "outputs": [
    {
     "data": {
      "text/plain": [
       "6.0     296\n",
       "4.0       2\n",
       "13.0      1\n",
       "Name: typeconstructiontypeid, dtype: int64"
      ]
     },
     "execution_count": 115,
     "metadata": {},
     "output_type": "execute_result"
    }
   ],
   "source": [
    "#typeconstructiontypeid： What type of construction material was used to construct the home\n",
    "#categorical\n",
    "df_16['typeconstructiontypeid'][df_16['typeconstructiontypeid'].notnull()].value_counts()"
   ]
  },
  {
   "cell_type": "code",
   "execution_count": 116,
   "metadata": {
    "scrolled": true
   },
   "outputs": [
    {
     "data": {
      "text/plain": [
       "120.0     6\n",
       "125.0     3\n",
       "144.0     3\n",
       "180.0     3\n",
       "60.0      3\n",
       "37.0      2\n",
       "108.0     2\n",
       "204.0     2\n",
       "168.0     2\n",
       "56.0      2\n",
       "100.0     2\n",
       "88.0      2\n",
       "400.0     2\n",
       "1200.0    2\n",
       "310.0     1\n",
       "1197.0    1\n",
       "231.0     1\n",
       "230.0     1\n",
       "268.0     1\n",
       "150.0     1\n",
       "477.0     1\n",
       "252.0     1\n",
       "119.0     1\n",
       "90.0      1\n",
       "264.0     1\n",
       "48.0      1\n",
       "110.0     1\n",
       "36.0      1\n",
       "54.0      1\n",
       "33.0      1\n",
       "         ..\n",
       "34.0      1\n",
       "504.0     1\n",
       "276.0     1\n",
       "72.0      1\n",
       "96.0      1\n",
       "133.0     1\n",
       "408.0     1\n",
       "525.0     1\n",
       "49.0      1\n",
       "160.0     1\n",
       "288.0     1\n",
       "480.0     1\n",
       "192.0     1\n",
       "943.0     1\n",
       "290.0     1\n",
       "41.0      1\n",
       "136.0     1\n",
       "1182.0    1\n",
       "1000.0    1\n",
       "960.0     1\n",
       "627.0     1\n",
       "642.0     1\n",
       "78.0      1\n",
       "648.0     1\n",
       "1366.0    1\n",
       "159.0     1\n",
       "104.0     1\n",
       "846.0     1\n",
       "864.0     1\n",
       "550.0     1\n",
       "Name: yardbuildingsqft26, Length: 73, dtype: int64"
      ]
     },
     "execution_count": 116,
     "metadata": {},
     "output_type": "execute_result"
    }
   ],
   "source": [
    "#yardbuildingsqft26:Storage shed/building in yard\n",
    "#\n",
    "df_16['yardbuildingsqft26'][df_16['yardbuildingsqft26'].notnull()].value_counts()"
   ]
  },
  {
   "cell_type": "code",
   "execution_count": 117,
   "metadata": {},
   "outputs": [
    {
     "data": {
      "text/plain": [
       "True    222\n",
       "Name: fireplaceflag, dtype: int64"
      ]
     },
     "execution_count": 117,
     "metadata": {},
     "output_type": "execute_result"
    }
   ],
   "source": [
    "#fireplaceflag: Is a fireplace present in this home \n",
    "#\n",
    "df_16['fireplaceflag'][df_16['fireplaceflag'].notnull()].value_counts()"
   ]
  },
  {
   "cell_type": "code",
   "execution_count": 118,
   "metadata": {},
   "outputs": [
    {
     "data": {
      "text/plain": [
       "Y    1783\n",
       "Name: taxdelinquencyflag, dtype: int64"
      ]
     },
     "execution_count": 118,
     "metadata": {},
     "output_type": "execute_result"
    }
   ],
   "source": [
    "#taxdelinquencyflag:Property taxes for this parcel are past due as of 2015\n",
    "#\n",
    "df_16['taxdelinquencyflag'][df_16['taxdelinquencyflag'].notnull()].value_counts()"
   ]
  },
  {
   "cell_type": "code",
   "execution_count": 119,
   "metadata": {},
   "outputs": [
    {
     "data": {
      "text/plain": [
       "14.0    628\n",
       "15.0    518\n",
       "13.0    210\n",
       "12.0    154\n",
       "10.0     89\n",
       "11.0     85\n",
       "9.0      63\n",
       "8.0      24\n",
       "7.0       8\n",
       "6.0       3\n",
       "99.0      1\n",
       "Name: taxdelinquencyyear, dtype: int64"
      ]
     },
     "execution_count": 119,
     "metadata": {},
     "output_type": "execute_result"
    }
   ],
   "source": [
    "#taxdelinquencyyear:Year for which the unpaid propert taxes were due \n",
    "df_16['taxdelinquencyyear'][df_16['taxdelinquencyyear'].notnull()].value_counts()"
   ]
  },
  {
   "cell_type": "code",
   "execution_count": 392,
   "metadata": {},
   "outputs": [],
   "source": [
    "#drop columns where missing percentage larger than 98%\n",
    "miss_col = col_miss[col_miss>0.98]\n",
    "drop_col = []\n",
    "for i in miss_col.index:\n",
    "    drop_col.append(i)\n",
    "df_16.drop(columns = drop_col,inplace = True)"
   ]
  },
  {
   "cell_type": "code",
   "execution_count": 393,
   "metadata": {},
   "outputs": [
    {
     "data": {
      "text/plain": [
       "(90275, 47)"
      ]
     },
     "execution_count": 393,
     "metadata": {},
     "output_type": "execute_result"
    }
   ],
   "source": [
    "df_16.shape"
   ]
  },
  {
   "cell_type": "code",
   "execution_count": 394,
   "metadata": {
    "scrolled": true
   },
   "outputs": [
    {
     "data": {
      "text/plain": [
       "Index(['parcelid', 'logerror', 'transactiondate', 'Month',\n",
       "       'airconditioningtypeid', 'bathroomcnt', 'bedroomcnt',\n",
       "       'buildingqualitytypeid', 'calculatedbathnbr',\n",
       "       'finishedfloor1squarefeet', 'calculatedfinishedsquarefeet',\n",
       "       'finishedsquarefeet12', 'finishedsquarefeet15', 'finishedsquarefeet50',\n",
       "       'fips', 'fireplacecnt', 'fullbathcnt', 'garagecarcnt',\n",
       "       'garagetotalsqft', 'hashottuborspa', 'heatingorsystemtypeid',\n",
       "       'latitude', 'longitude', 'lotsizesquarefeet', 'poolcnt', 'pooltypeid7',\n",
       "       'propertycountylandusecode', 'propertylandusetypeid',\n",
       "       'propertyzoningdesc', 'rawcensustractandblock', 'regionidcity',\n",
       "       'regionidcounty', 'regionidneighborhood', 'regionidzip', 'roomcnt',\n",
       "       'threequarterbathnbr', 'unitcnt', 'yardbuildingsqft17', 'yearbuilt',\n",
       "       'numberofstories', 'structuretaxvaluedollarcnt', 'taxvaluedollarcnt',\n",
       "       'assessmentyear', 'landtaxvaluedollarcnt', 'taxamount',\n",
       "       'censustractandblock', '_merge'],\n",
       "      dtype='object')"
      ]
     },
     "execution_count": 394,
     "metadata": {},
     "output_type": "execute_result"
    }
   ],
   "source": [
    "df_16.columns"
   ]
  },
  {
   "cell_type": "code",
   "execution_count": 395,
   "metadata": {
    "scrolled": false
   },
   "outputs": [
    {
     "data": {
      "text/plain": [
       "airconditioningtypeid           61494\n",
       "buildingqualitytypeid           32911\n",
       "calculatedbathnbr                1182\n",
       "finishedfloor1squarefeet        83419\n",
       "calculatedfinishedsquarefeet      661\n",
       "finishedsquarefeet12             4679\n",
       "finishedsquarefeet15            86711\n",
       "finishedsquarefeet50            83419\n",
       "fireplacecnt                    80668\n",
       "fullbathcnt                      1182\n",
       "garagecarcnt                    60338\n",
       "garagetotalsqft                 60338\n",
       "hashottuborspa                  87910\n",
       "heatingorsystemtypeid           34195\n",
       "lotsizesquarefeet               10150\n",
       "poolcnt                         72374\n",
       "pooltypeid7                     73578\n",
       "propertycountylandusecode           1\n",
       "propertyzoningdesc              31962\n",
       "regionidcity                     1803\n",
       "regionidneighborhood            54263\n",
       "regionidzip                        35\n",
       "threequarterbathnbr             78266\n",
       "unitcnt                         31922\n",
       "yardbuildingsqft17              87629\n",
       "yearbuilt                         756\n",
       "numberofstories                 69705\n",
       "structuretaxvaluedollarcnt        380\n",
       "taxvaluedollarcnt                   1\n",
       "landtaxvaluedollarcnt               1\n",
       "taxamount                           6\n",
       "censustractandblock               605\n",
       "dtype: int64"
      ]
     },
     "execution_count": 395,
     "metadata": {},
     "output_type": "execute_result"
    }
   ],
   "source": [
    "columns = df_16.isnull().sum(axis=0)\n",
    "columns[columns>0]"
   ]
  },
  {
   "cell_type": "code",
   "execution_count": 396,
   "metadata": {
    "scrolled": true
   },
   "outputs": [
    {
     "data": {
      "text/plain": [
       "Index(['airconditioningtypeid', 'buildingqualitytypeid', 'calculatedbathnbr',\n",
       "       'finishedfloor1squarefeet', 'calculatedfinishedsquarefeet',\n",
       "       'finishedsquarefeet12', 'finishedsquarefeet15', 'finishedsquarefeet50',\n",
       "       'fireplacecnt', 'fullbathcnt', 'garagecarcnt', 'garagetotalsqft',\n",
       "       'hashottuborspa', 'heatingorsystemtypeid', 'lotsizesquarefeet',\n",
       "       'poolcnt', 'pooltypeid7', 'propertycountylandusecode',\n",
       "       'propertyzoningdesc', 'regionidcity', 'regionidneighborhood',\n",
       "       'regionidzip', 'threequarterbathnbr', 'unitcnt', 'yardbuildingsqft17',\n",
       "       'yearbuilt', 'numberofstories', 'structuretaxvaluedollarcnt',\n",
       "       'taxvaluedollarcnt', 'landtaxvaluedollarcnt', 'taxamount',\n",
       "       'censustractandblock'],\n",
       "      dtype='object')"
      ]
     },
     "execution_count": 396,
     "metadata": {},
     "output_type": "execute_result"
    }
   ],
   "source": [
    "columns[columns>0].index"
   ]
  },
  {
   "cell_type": "markdown",
   "metadata": {},
   "source": [
    "### 7.2 Deal with null values"
   ]
  },
  {
   "cell_type": "code",
   "execution_count": 397,
   "metadata": {},
   "outputs": [],
   "source": [
    "#Deal with null values\n",
    "zero_list = ['airconditioningtypeid','fireplacecnt','poolcnt','garagecarcnt','garagetotalsqft','pooltypeid7',\n",
    "            'yardbuildingsqft17',]\n",
    "mode_list = ['buildingqualitytypeid','calculatedbathnbr','fullbathcnt','hashottuborspa','threequarterbathnbr',\n",
    "            'heatingorsystemtypeid','propertycountylandusecode','unitcnt','yearbuilt','numberofstories',\n",
    "            'structuretaxvaluedollarcnt','regionidzip']\n",
    "mean_list = ['finishedfloor1squarefeet','calculatedfinishedsquarefeet','finishedsquarefeet12',\n",
    "            'finishedsquarefeet15', 'finishedsquarefeet50','lotsizesquarefeet','taxamount','taxvaluedollarcnt','landtaxvaluedollarcnt']\n",
    "df_16[zero_list] = df_16[zero_list].fillna(0)\n",
    "df_16[mode_list] = df_16[mode_list].fillna(df_16[mode_list].mode().iloc[0])\n",
    "df_16[mean_list] = df_16[mean_list].fillna(df_16[mean_list].mean())"
   ]
  },
  {
   "cell_type": "code",
   "execution_count": 398,
   "metadata": {
    "scrolled": false
   },
   "outputs": [],
   "source": [
    "df_16_new = df_16.drop(columns = '_merge')"
   ]
  },
  {
   "cell_type": "code",
   "execution_count": 399,
   "metadata": {},
   "outputs": [
    {
     "data": {
      "text/plain": [
       "float64           40\n",
       "object             2\n",
       "int64              2\n",
       "datetime64[ns]     1\n",
       "bool               1\n",
       "dtype: int64"
      ]
     },
     "execution_count": 399,
     "metadata": {},
     "output_type": "execute_result"
    }
   ],
   "source": [
    "df_16_new.dtypes.value_counts()"
   ]
  },
  {
   "cell_type": "markdown",
   "metadata": {},
   "source": [
    "## 8. Feature Engineering"
   ]
  },
  {
   "cell_type": "markdown",
   "metadata": {},
   "source": [
    "### 8.1 Univariate Analysis"
   ]
  },
  {
   "cell_type": "code",
   "execution_count": 400,
   "metadata": {},
   "outputs": [],
   "source": [
    "#get the correlation between numerical variables and logerror\n",
    "x_col = [col for col in df_16_new.columns if col not in ['logerror'] if df_16_new[col].dtypes == 'float64']\n",
    "\n",
    "label = []\n",
    "corrcoef = []\n",
    "for col in x_col:\n",
    "    label.append(col)\n",
    "    corrcoef.append(np.corrcoef(df_16_new[col].values,df_16_new['logerror'].values)[0,1])\n",
    "\n",
    "corr = pd.DataFrame({'cols':label,'corr_coef':corrcoef})\n",
    "corr_df = corr.sort_values(by = 'corr_coef')"
   ]
  },
  {
   "cell_type": "code",
   "execution_count": 401,
   "metadata": {},
   "outputs": [
    {
     "data": {
      "image/png": "[encoded data removed]",
      "text/plain": [
       "<Figure size 864x2880 with 1 Axes>"
      ]
     },
     "metadata": {
      "needs_background": "light"
     },
     "output_type": "display_data"
    }
   ],
   "source": [
    "#visduallize our corrcoef\n",
    "fig,ax = plt.subplots(figsize = (12,40))\n",
    "ind = np.arange(len(label))\n",
    "width = 0.9\n",
    "ax.barh(ind,np.array(corr_df['corr_coef'].values))\n",
    "ax.set_xlabel('Correlation Coefficient')\n",
    "ax.set_yticks(ind)\n",
    "ax.set_yticklabels(corr_df.cols.values)\n",
    "plt.show()"
   ]
  },
  {
   "cell_type": "markdown",
   "metadata": {},
   "source": [
    "From the chart we can see most of the variables are not highly correlated to logerror. Let's look at the variables with relatively higher correlation coefficients."
   ]
  },
  {
   "cell_type": "code",
   "execution_count": 402,
   "metadata": {},
   "outputs": [
    {
     "data": {
      "text/html": [
       "<div>\n",
       "<style scoped>\n",
       "    .dataframe tbody tr th:only-of-type {\n",
       "        vertical-align: middle;\n",
       "    }\n",
       "\n",
       "    .dataframe tbody tr th {\n",
       "        vertical-align: top;\n",
       "    }\n",
       "\n",
       "    .dataframe thead th {\n",
       "        text-align: right;\n",
       "    }\n",
       "</style>\n",
       "<table border=\"1\" class=\"dataframe\">\n",
       "  <thead>\n",
       "    <tr style=\"text-align: right;\">\n",
       "      <th></th>\n",
       "      <th>cols</th>\n",
       "      <th>corr_coef</th>\n",
       "    </tr>\n",
       "  </thead>\n",
       "  <tbody>\n",
       "    <tr>\n",
       "      <th>15</th>\n",
       "      <td>heatingorsystemtypeid</td>\n",
       "      <td>-0.019586</td>\n",
       "    </tr>\n",
       "    <tr>\n",
       "      <th>19</th>\n",
       "      <td>poolcnt</td>\n",
       "      <td>-0.008983</td>\n",
       "    </tr>\n",
       "    <tr>\n",
       "      <th>20</th>\n",
       "      <td>pooltypeid7</td>\n",
       "      <td>-0.008078</td>\n",
       "    </tr>\n",
       "    <tr>\n",
       "      <th>37</th>\n",
       "      <td>taxamount</td>\n",
       "      <td>-0.006671</td>\n",
       "    </tr>\n",
       "    <tr>\n",
       "      <th>26</th>\n",
       "      <td>regionidzip</td>\n",
       "      <td>-0.006487</td>\n",
       "    </tr>\n",
       "    <tr>\n",
       "      <th>3</th>\n",
       "      <td>buildingqualitytypeid</td>\n",
       "      <td>-0.006406</td>\n",
       "    </tr>\n",
       "    <tr>\n",
       "      <th>33</th>\n",
       "      <td>structuretaxvaluedollarcnt</td>\n",
       "      <td>0.022481</td>\n",
       "    </tr>\n",
       "    <tr>\n",
       "      <th>2</th>\n",
       "      <td>bedroomcnt</td>\n",
       "      <td>0.025467</td>\n",
       "    </tr>\n",
       "    <tr>\n",
       "      <th>1</th>\n",
       "      <td>bathroomcnt</td>\n",
       "      <td>0.027889</td>\n",
       "    </tr>\n",
       "    <tr>\n",
       "      <th>12</th>\n",
       "      <td>fullbathcnt</td>\n",
       "      <td>0.028197</td>\n",
       "    </tr>\n",
       "    <tr>\n",
       "      <th>4</th>\n",
       "      <td>calculatedbathnbr</td>\n",
       "      <td>0.028788</td>\n",
       "    </tr>\n",
       "    <tr>\n",
       "      <th>6</th>\n",
       "      <td>calculatedfinishedsquarefeet</td>\n",
       "      <td>0.038341</td>\n",
       "    </tr>\n",
       "    <tr>\n",
       "      <th>7</th>\n",
       "      <td>finishedsquarefeet12</td>\n",
       "      <td>0.039248</td>\n",
       "    </tr>\n",
       "  </tbody>\n",
       "</table>\n",
       "</div>"
      ],
      "text/plain": [
       "                            cols  corr_coef\n",
       "15         heatingorsystemtypeid  -0.019586\n",
       "19                       poolcnt  -0.008983\n",
       "20                   pooltypeid7  -0.008078\n",
       "37                     taxamount  -0.006671\n",
       "26                   regionidzip  -0.006487\n",
       "3          buildingqualitytypeid  -0.006406\n",
       "33    structuretaxvaluedollarcnt   0.022481\n",
       "2                     bedroomcnt   0.025467\n",
       "1                    bathroomcnt   0.027889\n",
       "12                   fullbathcnt   0.028197\n",
       "4              calculatedbathnbr   0.028788\n",
       "6   calculatedfinishedsquarefeet   0.038341\n",
       "7           finishedsquarefeet12   0.039248"
      ]
     },
     "execution_count": 402,
     "metadata": {},
     "output_type": "execute_result"
    }
   ],
   "source": [
    "high_corr = corr_df[(corr_df.corr_coef > 0.02)|(corr_df.corr_coef <-0.005)]\n",
    "high_corr"
   ]
  },
  {
   "cell_type": "code",
   "execution_count": 403,
   "metadata": {},
   "outputs": [
    {
     "data": {
      "image/png": "[encoded data removed]",
      "text/plain": [
       "<Figure size 720x576 with 2 Axes>"
      ]
     },
     "metadata": {
      "needs_background": "light"
     },
     "output_type": "display_data"
    }
   ],
   "source": [
    "#Use heatmap to see the correlation between these variables\n",
    "col_label = high_corr.cols.tolist()\n",
    "values = df_16_new[col_label]\n",
    "colormap = values.corr(method='spearman')\n",
    "fig,ax = plt.subplots(figsize = (10,8))\n",
    "sns.heatmap(colormap)\n",
    "plt.show()"
   ]
  },
  {
   "cell_type": "markdown",
   "metadata": {},
   "source": [
    "We can find that some numerical variables are highly correlated. Let's go through some 'impoetant features' one by one.\\\n",
    "Features: heatingorsystemtypeid, taxamount, poolcnt, finishedsquarefeet12, bathroomcnt, bedroomcnt, structuretaxvaluedollarcnt, buildingqualitytypeid\t"
   ]
  },
  {
   "cell_type": "code",
   "execution_count": 404,
   "metadata": {
    "scrolled": true
   },
   "outputs": [
    {
     "data": {
      "text/html": [
       "<div>\n",
       "<style scoped>\n",
       "    .dataframe tbody tr th:only-of-type {\n",
       "        vertical-align: middle;\n",
       "    }\n",
       "\n",
       "    .dataframe tbody tr th {\n",
       "        vertical-align: top;\n",
       "    }\n",
       "\n",
       "    .dataframe thead th {\n",
       "        text-align: right;\n",
       "    }\n",
       "</style>\n",
       "<table border=\"1\" class=\"dataframe\">\n",
       "  <thead>\n",
       "    <tr style=\"text-align: right;\">\n",
       "      <th></th>\n",
       "      <th>heatingorsystemtypeid</th>\n",
       "      <th>taxamount</th>\n",
       "      <th>poolcnt</th>\n",
       "      <th>finishedsquarefeet12</th>\n",
       "      <th>bathroomcnt</th>\n",
       "      <th>bedroomcnt</th>\n",
       "      <th>structuretaxvaluedollarcnt</th>\n",
       "      <th>buildingqualitytypeid</th>\n",
       "      <th>Month</th>\n",
       "    </tr>\n",
       "  </thead>\n",
       "  <tbody>\n",
       "    <tr>\n",
       "      <th>0</th>\n",
       "      <td>2.0</td>\n",
       "      <td>6735.88</td>\n",
       "      <td>0.0</td>\n",
       "      <td>1684.0</td>\n",
       "      <td>2.0</td>\n",
       "      <td>3.0</td>\n",
       "      <td>122754.0</td>\n",
       "      <td>4.0</td>\n",
       "      <td>1</td>\n",
       "    </tr>\n",
       "    <tr>\n",
       "      <th>1</th>\n",
       "      <td>2.0</td>\n",
       "      <td>10153.02</td>\n",
       "      <td>0.0</td>\n",
       "      <td>2263.0</td>\n",
       "      <td>3.5</td>\n",
       "      <td>4.0</td>\n",
       "      <td>346458.0</td>\n",
       "      <td>7.0</td>\n",
       "      <td>1</td>\n",
       "    </tr>\n",
       "    <tr>\n",
       "      <th>2</th>\n",
       "      <td>2.0</td>\n",
       "      <td>11484.48</td>\n",
       "      <td>0.0</td>\n",
       "      <td>2217.0</td>\n",
       "      <td>3.0</td>\n",
       "      <td>2.0</td>\n",
       "      <td>61994.0</td>\n",
       "      <td>4.0</td>\n",
       "      <td>1</td>\n",
       "    </tr>\n",
       "    <tr>\n",
       "      <th>3</th>\n",
       "      <td>2.0</td>\n",
       "      <td>3048.74</td>\n",
       "      <td>0.0</td>\n",
       "      <td>839.0</td>\n",
       "      <td>2.0</td>\n",
       "      <td>2.0</td>\n",
       "      <td>171518.0</td>\n",
       "      <td>4.0</td>\n",
       "      <td>1</td>\n",
       "    </tr>\n",
       "    <tr>\n",
       "      <th>4</th>\n",
       "      <td>2.0</td>\n",
       "      <td>5488.96</td>\n",
       "      <td>1.0</td>\n",
       "      <td>2283.0</td>\n",
       "      <td>2.5</td>\n",
       "      <td>4.0</td>\n",
       "      <td>169574.0</td>\n",
       "      <td>7.0</td>\n",
       "      <td>1</td>\n",
       "    </tr>\n",
       "  </tbody>\n",
       "</table>\n",
       "</div>"
      ],
      "text/plain": [
       "   heatingorsystemtypeid  taxamount  poolcnt  finishedsquarefeet12  \\\n",
       "0                    2.0    6735.88      0.0                1684.0   \n",
       "1                    2.0   10153.02      0.0                2263.0   \n",
       "2                    2.0   11484.48      0.0                2217.0   \n",
       "3                    2.0    3048.74      0.0                 839.0   \n",
       "4                    2.0    5488.96      1.0                2283.0   \n",
       "\n",
       "   bathroomcnt  bedroomcnt  structuretaxvaluedollarcnt  buildingqualitytypeid  \\\n",
       "0          2.0         3.0                    122754.0                    4.0   \n",
       "1          3.5         4.0                    346458.0                    7.0   \n",
       "2          3.0         2.0                     61994.0                    4.0   \n",
       "3          2.0         2.0                    171518.0                    4.0   \n",
       "4          2.5         4.0                    169574.0                    7.0   \n",
       "\n",
       "   Month  \n",
       "0      1  \n",
       "1      1  \n",
       "2      1  \n",
       "3      1  \n",
       "4      1  "
      ]
     },
     "execution_count": 404,
     "metadata": {},
     "output_type": "execute_result"
    }
   ],
   "source": [
    "features = ['heatingorsystemtypeid','taxamount','poolcnt','finishedsquarefeet12', 'bathroomcnt', 'bedroomcnt', \n",
    "            'structuretaxvaluedollarcnt', 'buildingqualitytypeid','Month']\n",
    "train_16 = df_16_new[features]\n",
    "train_16.head()"
   ]
  },
  {
   "cell_type": "code",
   "execution_count": 405,
   "metadata": {},
   "outputs": [],
   "source": [
    "#Process categorical variables\n",
    "le = preprocessing.LabelEncoder()\n",
    "le.fit(train_16['heatingorsystemtypeid'])\n",
    "train_16['heatingorsystemtypeid'] = le.transform(train_16['heatingorsystemtypeid'])\n",
    "le2 = preprocessing.LabelEncoder()\n",
    "le2.fit(train_16['buildingqualitytypeid'])\n",
    "train_16['buildingqualitytypeid'] = le2.transform(train_16['buildingqualitytypeid'])"
   ]
  },
  {
   "cell_type": "code",
   "execution_count": 406,
   "metadata": {
    "scrolled": true
   },
   "outputs": [
    {
     "data": {
      "text/html": [
       "<div>\n",
       "<style scoped>\n",
       "    .dataframe tbody tr th:only-of-type {\n",
       "        vertical-align: middle;\n",
       "    }\n",
       "\n",
       "    .dataframe tbody tr th {\n",
       "        vertical-align: top;\n",
       "    }\n",
       "\n",
       "    .dataframe thead th {\n",
       "        text-align: right;\n",
       "    }\n",
       "</style>\n",
       "<table border=\"1\" class=\"dataframe\">\n",
       "  <thead>\n",
       "    <tr style=\"text-align: right;\">\n",
       "      <th></th>\n",
       "      <th>heatingorsystemtypeid</th>\n",
       "      <th>taxamount</th>\n",
       "      <th>poolcnt</th>\n",
       "      <th>finishedsquarefeet12</th>\n",
       "      <th>bathroomcnt</th>\n",
       "      <th>bedroomcnt</th>\n",
       "      <th>structuretaxvaluedollarcnt</th>\n",
       "      <th>buildingqualitytypeid</th>\n",
       "      <th>Month</th>\n",
       "    </tr>\n",
       "  </thead>\n",
       "  <tbody>\n",
       "    <tr>\n",
       "      <th>0</th>\n",
       "      <td>1</td>\n",
       "      <td>6735.88</td>\n",
       "      <td>0.0</td>\n",
       "      <td>1684.0</td>\n",
       "      <td>2.0</td>\n",
       "      <td>3.0</td>\n",
       "      <td>122754.0</td>\n",
       "      <td>1</td>\n",
       "      <td>1</td>\n",
       "    </tr>\n",
       "    <tr>\n",
       "      <th>1</th>\n",
       "      <td>1</td>\n",
       "      <td>10153.02</td>\n",
       "      <td>0.0</td>\n",
       "      <td>2263.0</td>\n",
       "      <td>3.5</td>\n",
       "      <td>4.0</td>\n",
       "      <td>346458.0</td>\n",
       "      <td>3</td>\n",
       "      <td>1</td>\n",
       "    </tr>\n",
       "    <tr>\n",
       "      <th>2</th>\n",
       "      <td>1</td>\n",
       "      <td>11484.48</td>\n",
       "      <td>0.0</td>\n",
       "      <td>2217.0</td>\n",
       "      <td>3.0</td>\n",
       "      <td>2.0</td>\n",
       "      <td>61994.0</td>\n",
       "      <td>1</td>\n",
       "      <td>1</td>\n",
       "    </tr>\n",
       "    <tr>\n",
       "      <th>3</th>\n",
       "      <td>1</td>\n",
       "      <td>3048.74</td>\n",
       "      <td>0.0</td>\n",
       "      <td>839.0</td>\n",
       "      <td>2.0</td>\n",
       "      <td>2.0</td>\n",
       "      <td>171518.0</td>\n",
       "      <td>1</td>\n",
       "      <td>1</td>\n",
       "    </tr>\n",
       "    <tr>\n",
       "      <th>4</th>\n",
       "      <td>1</td>\n",
       "      <td>5488.96</td>\n",
       "      <td>1.0</td>\n",
       "      <td>2283.0</td>\n",
       "      <td>2.5</td>\n",
       "      <td>4.0</td>\n",
       "      <td>169574.0</td>\n",
       "      <td>3</td>\n",
       "      <td>1</td>\n",
       "    </tr>\n",
       "  </tbody>\n",
       "</table>\n",
       "</div>"
      ],
      "text/plain": [
       "   heatingorsystemtypeid  taxamount  poolcnt  finishedsquarefeet12  \\\n",
       "0                      1    6735.88      0.0                1684.0   \n",
       "1                      1   10153.02      0.0                2263.0   \n",
       "2                      1   11484.48      0.0                2217.0   \n",
       "3                      1    3048.74      0.0                 839.0   \n",
       "4                      1    5488.96      1.0                2283.0   \n",
       "\n",
       "   bathroomcnt  bedroomcnt  structuretaxvaluedollarcnt  buildingqualitytypeid  \\\n",
       "0          2.0         3.0                    122754.0                      1   \n",
       "1          3.5         4.0                    346458.0                      3   \n",
       "2          3.0         2.0                     61994.0                      1   \n",
       "3          2.0         2.0                    171518.0                      1   \n",
       "4          2.5         4.0                    169574.0                      3   \n",
       "\n",
       "   Month  \n",
       "0      1  \n",
       "1      1  \n",
       "2      1  \n",
       "3      1  \n",
       "4      1  "
      ]
     },
     "execution_count": 406,
     "metadata": {},
     "output_type": "execute_result"
    }
   ],
   "source": [
    "train_16.head()"
   ]
  },
  {
   "cell_type": "markdown",
   "metadata": {},
   "source": [
    "### 8.2 Create New Features"
   ]
  },
  {
   "cell_type": "code",
   "execution_count": 407,
   "metadata": {},
   "outputs": [
    {
     "name": "stdout",
     "output_type": "stream",
     "text": [
      "Number of unqiue latitude: 73312\n",
      "Number of unqiue longitude: 73312\n"
     ]
    }
   ],
   "source": [
    "#Use kmeans to cluster latitude and longitude\n",
    "print('Number of unqiue latitude:',df_16_new.latitude.unique().shape[0])\n",
    "print('Number of unqiue longitude:',df_16_new.latitude.unique().shape[0])"
   ]
  },
  {
   "cell_type": "code",
   "execution_count": 408,
   "metadata": {},
   "outputs": [],
   "source": [
    "Clf_x = df_16_new.loc[:,['latitude','longitude']]\n",
    "num_center = 10\n",
    "kmeans = KMeans(n_clusters=center, random_state=0).fit(Clf_x)\n",
    "id_label=kmeans.labels_"
   ]
  },
  {
   "cell_type": "code",
   "execution_count": 409,
   "metadata": {},
   "outputs": [
    {
     "data": {
      "image/png": "[encoded data removed]",
      "text/plain": [
       "<Figure size 864x864 with 1 Axes>"
      ]
     },
     "metadata": {
      "needs_background": "light"
     },
     "output_type": "display_data"
    }
   ],
   "source": [
    "ptsymb = np.array(['b.','r.','m.','g.','c.','k.','b*','y*','b*','r^'])\n",
    "plt.figure(figsize=(12,12))\n",
    "plt.ylabel('Longitude', fontsize=12)\n",
    "plt.xlabel('Latitude', fontsize=12)\n",
    "for i in range(num_center):\n",
    "    cluster=np.where(id_label==i)[0]\n",
    "    plt.plot(Clf_x.latitude[cluster].values,Clf_x.longitude[cluster].values,ptsymb[i])\n",
    "plt.show()"
   ]
  },
  {
   "cell_type": "code",
   "execution_count": 410,
   "metadata": {},
   "outputs": [],
   "source": [
    "cls = {}\n",
    "df_16_new['location'] = 0\n",
    "for i in range(num_center):\n",
    "    cls[i] = np.where(id_label==i)[0].tolist()\n",
    "    df_16_new['location'].iloc[cls[i]] = i"
   ]
  },
  {
   "cell_type": "code",
   "execution_count": 411,
   "metadata": {},
   "outputs": [],
   "source": [
    "train_16['location'] = df_16_new['location']\n",
    "le3 = preprocessing.LabelEncoder()\n",
    "le3.fit(train_16['location'])\n",
    "train_16['location'] = le3.transform(train_16['location'])"
   ]
  },
  {
   "cell_type": "markdown",
   "metadata": {},
   "source": [
    "## 9. Feature Selection"
   ]
  },
  {
   "cell_type": "markdown",
   "metadata": {},
   "source": [
    "## 10. Predictive Modeling"
   ]
  },
  {
   "cell_type": "markdown",
   "metadata": {},
   "source": [
    "### 10.1 Train test split"
   ]
  },
  {
   "cell_type": "code",
   "execution_count": 413,
   "metadata": {},
   "outputs": [
    {
     "data": {
      "text/html": [
       "<div>\n",
       "<style scoped>\n",
       "    .dataframe tbody tr th:only-of-type {\n",
       "        vertical-align: middle;\n",
       "    }\n",
       "\n",
       "    .dataframe tbody tr th {\n",
       "        vertical-align: top;\n",
       "    }\n",
       "\n",
       "    .dataframe thead th {\n",
       "        text-align: right;\n",
       "    }\n",
       "</style>\n",
       "<table border=\"1\" class=\"dataframe\">\n",
       "  <thead>\n",
       "    <tr style=\"text-align: right;\">\n",
       "      <th></th>\n",
       "      <th>heatingorsystemtypeid</th>\n",
       "      <th>taxamount</th>\n",
       "      <th>poolcnt</th>\n",
       "      <th>finishedsquarefeet12</th>\n",
       "      <th>bathroomcnt</th>\n",
       "      <th>bedroomcnt</th>\n",
       "      <th>structuretaxvaluedollarcnt</th>\n",
       "      <th>buildingqualitytypeid</th>\n",
       "      <th>Month</th>\n",
       "      <th>location</th>\n",
       "    </tr>\n",
       "  </thead>\n",
       "  <tbody>\n",
       "    <tr>\n",
       "      <th>0</th>\n",
       "      <td>1</td>\n",
       "      <td>6735.88</td>\n",
       "      <td>0.0</td>\n",
       "      <td>1684.0</td>\n",
       "      <td>2.0</td>\n",
       "      <td>3.0</td>\n",
       "      <td>122754.0</td>\n",
       "      <td>1</td>\n",
       "      <td>1</td>\n",
       "      <td>6</td>\n",
       "    </tr>\n",
       "    <tr>\n",
       "      <th>1</th>\n",
       "      <td>1</td>\n",
       "      <td>10153.02</td>\n",
       "      <td>0.0</td>\n",
       "      <td>2263.0</td>\n",
       "      <td>3.5</td>\n",
       "      <td>4.0</td>\n",
       "      <td>346458.0</td>\n",
       "      <td>3</td>\n",
       "      <td>1</td>\n",
       "      <td>1</td>\n",
       "    </tr>\n",
       "    <tr>\n",
       "      <th>2</th>\n",
       "      <td>1</td>\n",
       "      <td>11484.48</td>\n",
       "      <td>0.0</td>\n",
       "      <td>2217.0</td>\n",
       "      <td>3.0</td>\n",
       "      <td>2.0</td>\n",
       "      <td>61994.0</td>\n",
       "      <td>1</td>\n",
       "      <td>1</td>\n",
       "      <td>0</td>\n",
       "    </tr>\n",
       "    <tr>\n",
       "      <th>3</th>\n",
       "      <td>1</td>\n",
       "      <td>3048.74</td>\n",
       "      <td>0.0</td>\n",
       "      <td>839.0</td>\n",
       "      <td>2.0</td>\n",
       "      <td>2.0</td>\n",
       "      <td>171518.0</td>\n",
       "      <td>1</td>\n",
       "      <td>1</td>\n",
       "      <td>7</td>\n",
       "    </tr>\n",
       "    <tr>\n",
       "      <th>4</th>\n",
       "      <td>1</td>\n",
       "      <td>5488.96</td>\n",
       "      <td>1.0</td>\n",
       "      <td>2283.0</td>\n",
       "      <td>2.5</td>\n",
       "      <td>4.0</td>\n",
       "      <td>169574.0</td>\n",
       "      <td>3</td>\n",
       "      <td>1</td>\n",
       "      <td>1</td>\n",
       "    </tr>\n",
       "  </tbody>\n",
       "</table>\n",
       "</div>"
      ],
      "text/plain": [
       "   heatingorsystemtypeid  taxamount  poolcnt  finishedsquarefeet12  \\\n",
       "0                      1    6735.88      0.0                1684.0   \n",
       "1                      1   10153.02      0.0                2263.0   \n",
       "2                      1   11484.48      0.0                2217.0   \n",
       "3                      1    3048.74      0.0                 839.0   \n",
       "4                      1    5488.96      1.0                2283.0   \n",
       "\n",
       "   bathroomcnt  bedroomcnt  structuretaxvaluedollarcnt  buildingqualitytypeid  \\\n",
       "0          2.0         3.0                    122754.0                      1   \n",
       "1          3.5         4.0                    346458.0                      3   \n",
       "2          3.0         2.0                     61994.0                      1   \n",
       "3          2.0         2.0                    171518.0                      1   \n",
       "4          2.5         4.0                    169574.0                      3   \n",
       "\n",
       "   Month  location  \n",
       "0      1         6  \n",
       "1      1         1  \n",
       "2      1         0  \n",
       "3      1         7  \n",
       "4      1         1  "
      ]
     },
     "execution_count": 413,
     "metadata": {},
     "output_type": "execute_result"
    }
   ],
   "source": [
    "train_month_16 = train_16.head()"
   ]
  },
  {
   "cell_type": "code",
   "execution_count": 354,
   "metadata": {},
   "outputs": [],
   "source": [
    "X = train_16.values\n",
    "y = data_16['logerror'].values\n",
    "X_train, X_test, y_train, y_test = train_test_split(X, y, test_size = 0.2, random_state = 42)"
   ]
  },
  {
   "cell_type": "code",
   "execution_count": 355,
   "metadata": {
    "scrolled": true
   },
   "outputs": [
    {
     "data": {
      "text/plain": [
       "(72220, 9)"
      ]
     },
     "execution_count": 355,
     "metadata": {},
     "output_type": "execute_result"
    }
   ],
   "source": [
    "X_train.shape"
   ]
  },
  {
   "cell_type": "markdown",
   "metadata": {},
   "source": [
    "### 10.2 Normalize data"
   ]
  },
  {
   "cell_type": "code",
   "execution_count": 356,
   "metadata": {},
   "outputs": [],
   "source": [
    "X_scaled_train = (X_train - X_train.mean(axis = 0))/X_train.std(axis = 0)\n",
    "X_scaled_test = (X_test - X_test.mean(axis = 0))/X_test.std(axis = 0)"
   ]
  },
  {
   "cell_type": "code",
   "execution_count": 377,
   "metadata": {},
   "outputs": [
    {
     "data": {
      "text/plain": [
       "0.0259598238631482"
      ]
     },
     "execution_count": 377,
     "metadata": {},
     "output_type": "execute_result"
    }
   ],
   "source": [
    "#Linear Regression\n",
    "lm = LinearRegression().fit(X_scaled_train,y_train)\n",
    "y_predict = lm.predict(X_scaled_test)\n",
    "mean_squared_error(y_predict,y_test)"
   ]
  },
  {
   "cell_type": "code",
   "execution_count": 360,
   "metadata": {},
   "outputs": [],
   "source": [
    "#Random Forst\n",
    "RF = RandomForestRegressor(max_depth=2, random_state=0)\n",
    "RF.fit(X_scaled_train, y_train)\n",
    "y_predict_rf = RF.predict(X_scaled_test)"
   ]
  },
  {
   "cell_type": "code",
   "execution_count": 378,
   "metadata": {},
   "outputs": [
    {
     "data": {
      "text/plain": [
       "0.025971154350326705"
      ]
     },
     "execution_count": 378,
     "metadata": {},
     "output_type": "execute_result"
    }
   ],
   "source": [
    "mean_squared_error(y_predict_rf,y_test)"
   ]
  },
  {
   "cell_type": "code",
   "execution_count": 420,
   "metadata": {},
   "outputs": [
    {
     "name": "stdout",
     "output_type": "stream",
     "text": [
      "Collecting catboost\n",
      "\u001b[?25l  Downloading https://files.pythonhosted.org/packages/d4/9a/9ecb564a30dbe3bf93325612619c10df67f80e0077142048455f46273508/catboost-0.20.2-cp37-none-macosx_10_6_intel.macosx_10_9_intel.macosx_10_9_x86_64.macosx_10_10_intel.macosx_10_10_x86_64.whl (10.6MB)\n",
      "\u001b[K     |████████████████████████████████| 10.6MB 1.4MB/s eta 0:00:01\n",
      "\u001b[?25hRequirement already satisfied: six in /Users/chenzhangqi/anaconda3/lib/python3.7/site-packages (from catboost) (1.12.0)\n",
      "Requirement already satisfied: pandas>=0.24.0 in /Users/chenzhangqi/anaconda3/lib/python3.7/site-packages (from catboost) (0.24.2)\n",
      "Collecting graphviz (from catboost)\n",
      "  Downloading https://files.pythonhosted.org/packages/f5/74/dbed754c0abd63768d3a7a7b472da35b08ac442cf87d73d5850a6f32391e/graphviz-0.13.2-py2.py3-none-any.whl\n",
      "Requirement already satisfied: matplotlib in /Users/chenzhangqi/anaconda3/lib/python3.7/site-packages (from catboost) (3.1.0)\n",
      "Requirement already satisfied: scipy in /Users/chenzhangqi/anaconda3/lib/python3.7/site-packages (from catboost) (1.3.0)\n",
      "Requirement already satisfied: numpy>=1.16.0 in /Users/chenzhangqi/anaconda3/lib/python3.7/site-packages (from catboost) (1.16.4)\n",
      "Collecting plotly (from catboost)\n",
      "\u001b[?25l  Downloading https://files.pythonhosted.org/packages/8e/ce/6ea5683c47b682bffad39ad41d10913141b560b1b875a90dbc6abe3f4fa9/plotly-4.4.1-py2.py3-none-any.whl (7.3MB)\n",
      "\u001b[K     |████████████████████████████████| 7.3MB 20.5MB/s eta 0:00:01     |█████████▊                      | 2.2MB 20.5MB/s eta 0:00:01\n",
      "\u001b[?25hRequirement already satisfied: pytz>=2011k in /Users/chenzhangqi/anaconda3/lib/python3.7/site-packages (from pandas>=0.24.0->catboost) (2019.1)\n",
      "Requirement already satisfied: python-dateutil>=2.5.0 in /Users/chenzhangqi/anaconda3/lib/python3.7/site-packages (from pandas>=0.24.0->catboost) (2.8.0)\n",
      "Requirement already satisfied: cycler>=0.10 in /Users/chenzhangqi/anaconda3/lib/python3.7/site-packages (from matplotlib->catboost) (0.10.0)\n",
      "Requirement already satisfied: kiwisolver>=1.0.1 in /Users/chenzhangqi/anaconda3/lib/python3.7/site-packages (from matplotlib->catboost) (1.1.0)\n",
      "Requirement already satisfied: pyparsing!=2.0.4,!=2.1.2,!=2.1.6,>=2.0.1 in /Users/chenzhangqi/anaconda3/lib/python3.7/site-packages (from matplotlib->catboost) (2.4.0)\n",
      "Collecting retrying>=1.3.3 (from plotly->catboost)\n",
      "  Downloading https://files.pythonhosted.org/packages/44/ef/beae4b4ef80902f22e3af073397f079c96969c69b2c7d52a57ea9ae61c9d/retrying-1.3.3.tar.gz\n",
      "Requirement already satisfied: setuptools in /Users/chenzhangqi/anaconda3/lib/python3.7/site-packages (from kiwisolver>=1.0.1->matplotlib->catboost) (41.0.1)\n",
      "Building wheels for collected packages: retrying\n",
      "  Building wheel for retrying (setup.py) ... \u001b[?25ldone\n",
      "\u001b[?25h  Stored in directory: /Users/chenzhangqi/Library/Caches/pip/wheels/d7/a9/33/acc7b709e2a35caa7d4cae442f6fe6fbf2c43f80823d46460c\n",
      "Successfully built retrying\n",
      "Installing collected packages: graphviz, retrying, plotly, catboost\n",
      "Successfully installed catboost-0.20.2 graphviz-0.13.2 plotly-4.4.1 retrying-1.3.3\n"
     ]
    }
   ],
   "source": [
    "#CatBoost\n",
    "!pip install catboost"
   ]
  },
  {
   "cell_type": "code",
   "execution_count": 422,
   "metadata": {},
   "outputs": [
    {
     "name": "stdout",
     "output_type": "stream",
     "text": [
      "0:\tlearn: 0.0680758\ttotal: 70.8ms\tremaining: 1m 10s\n",
      "1:\tlearn: 0.0680730\ttotal: 83.4ms\tremaining: 41.6s\n",
      "2:\tlearn: 0.0680700\ttotal: 95.7ms\tremaining: 31.8s\n",
      "3:\tlearn: 0.0680674\ttotal: 107ms\tremaining: 26.7s\n",
      "4:\tlearn: 0.0680646\ttotal: 118ms\tremaining: 23.5s\n",
      "5:\tlearn: 0.0680617\ttotal: 130ms\tremaining: 21.5s\n",
      "6:\tlearn: 0.0680592\ttotal: 142ms\tremaining: 20.1s\n",
      "7:\tlearn: 0.0680566\ttotal: 155ms\tremaining: 19.3s\n",
      "8:\tlearn: 0.0680541\ttotal: 168ms\tremaining: 18.5s\n",
      "9:\tlearn: 0.0680512\ttotal: 179ms\tremaining: 17.8s\n",
      "10:\tlearn: 0.0680485\ttotal: 191ms\tremaining: 17.2s\n",
      "11:\tlearn: 0.0680460\ttotal: 203ms\tremaining: 16.7s\n",
      "12:\tlearn: 0.0680430\ttotal: 214ms\tremaining: 16.3s\n",
      "13:\tlearn: 0.0680402\ttotal: 226ms\tremaining: 15.9s\n",
      "14:\tlearn: 0.0680375\ttotal: 239ms\tremaining: 15.7s\n",
      "15:\tlearn: 0.0680350\ttotal: 252ms\tremaining: 15.5s\n",
      "16:\tlearn: 0.0680326\ttotal: 265ms\tremaining: 15.3s\n",
      "17:\tlearn: 0.0680298\ttotal: 281ms\tremaining: 15.3s\n",
      "18:\tlearn: 0.0680276\ttotal: 303ms\tremaining: 15.7s\n",
      "19:\tlearn: 0.0680253\ttotal: 319ms\tremaining: 15.6s\n",
      "20:\tlearn: 0.0680227\ttotal: 333ms\tremaining: 15.5s\n",
      "21:\tlearn: 0.0680202\ttotal: 345ms\tremaining: 15.3s\n",
      "22:\tlearn: 0.0680178\ttotal: 357ms\tremaining: 15.2s\n",
      "23:\tlearn: 0.0680158\ttotal: 372ms\tremaining: 15.1s\n",
      "24:\tlearn: 0.0680136\ttotal: 383ms\tremaining: 15s\n",
      "25:\tlearn: 0.0680111\ttotal: 397ms\tremaining: 14.9s\n",
      "26:\tlearn: 0.0680088\ttotal: 409ms\tremaining: 14.7s\n",
      "27:\tlearn: 0.0680068\ttotal: 422ms\tremaining: 14.6s\n",
      "28:\tlearn: 0.0680046\ttotal: 435ms\tremaining: 14.5s\n",
      "29:\tlearn: 0.0680024\ttotal: 447ms\tremaining: 14.5s\n",
      "30:\tlearn: 0.0680003\ttotal: 460ms\tremaining: 14.4s\n",
      "31:\tlearn: 0.0679980\ttotal: 471ms\tremaining: 14.3s\n",
      "32:\tlearn: 0.0679961\ttotal: 484ms\tremaining: 14.2s\n",
      "33:\tlearn: 0.0679939\ttotal: 503ms\tremaining: 14.3s\n",
      "34:\tlearn: 0.0679918\ttotal: 515ms\tremaining: 14.2s\n",
      "35:\tlearn: 0.0679899\ttotal: 527ms\tremaining: 14.1s\n",
      "36:\tlearn: 0.0679879\ttotal: 539ms\tremaining: 14s\n",
      "37:\tlearn: 0.0679859\ttotal: 550ms\tremaining: 13.9s\n",
      "38:\tlearn: 0.0679843\ttotal: 561ms\tremaining: 13.8s\n",
      "39:\tlearn: 0.0679822\ttotal: 572ms\tremaining: 13.7s\n",
      "40:\tlearn: 0.0679803\ttotal: 582ms\tremaining: 13.6s\n",
      "41:\tlearn: 0.0679785\ttotal: 594ms\tremaining: 13.5s\n",
      "42:\tlearn: 0.0679766\ttotal: 607ms\tremaining: 13.5s\n",
      "43:\tlearn: 0.0679748\ttotal: 619ms\tremaining: 13.4s\n",
      "44:\tlearn: 0.0679729\ttotal: 631ms\tremaining: 13.4s\n",
      "45:\tlearn: 0.0679711\ttotal: 646ms\tremaining: 13.4s\n",
      "46:\tlearn: 0.0679693\ttotal: 661ms\tremaining: 13.4s\n",
      "47:\tlearn: 0.0679676\ttotal: 676ms\tremaining: 13.4s\n",
      "48:\tlearn: 0.0679660\ttotal: 698ms\tremaining: 13.6s\n",
      "49:\tlearn: 0.0679646\ttotal: 718ms\tremaining: 13.6s\n",
      "50:\tlearn: 0.0679628\ttotal: 739ms\tremaining: 13.7s\n",
      "51:\tlearn: 0.0679614\ttotal: 757ms\tremaining: 13.8s\n",
      "52:\tlearn: 0.0679597\ttotal: 778ms\tremaining: 13.9s\n",
      "53:\tlearn: 0.0679583\ttotal: 794ms\tremaining: 13.9s\n",
      "54:\tlearn: 0.0679566\ttotal: 809ms\tremaining: 13.9s\n",
      "55:\tlearn: 0.0679551\ttotal: 822ms\tremaining: 13.9s\n",
      "56:\tlearn: 0.0679535\ttotal: 835ms\tremaining: 13.8s\n",
      "57:\tlearn: 0.0679519\ttotal: 846ms\tremaining: 13.7s\n",
      "58:\tlearn: 0.0679503\ttotal: 858ms\tremaining: 13.7s\n",
      "59:\tlearn: 0.0679486\ttotal: 869ms\tremaining: 13.6s\n",
      "60:\tlearn: 0.0679470\ttotal: 882ms\tremaining: 13.6s\n",
      "61:\tlearn: 0.0679457\ttotal: 1.02s\tremaining: 15.4s\n",
      "62:\tlearn: 0.0679442\ttotal: 1.04s\tremaining: 15.4s\n",
      "63:\tlearn: 0.0679428\ttotal: 1.05s\tremaining: 15.3s\n",
      "64:\tlearn: 0.0679413\ttotal: 1.06s\tremaining: 15.3s\n",
      "65:\tlearn: 0.0679398\ttotal: 1.07s\tremaining: 15.2s\n",
      "66:\tlearn: 0.0679384\ttotal: 1.08s\tremaining: 15.1s\n",
      "67:\tlearn: 0.0679369\ttotal: 1.1s\tremaining: 15.1s\n",
      "68:\tlearn: 0.0679357\ttotal: 1.11s\tremaining: 15s\n",
      "69:\tlearn: 0.0679343\ttotal: 1.13s\tremaining: 15s\n",
      "70:\tlearn: 0.0679330\ttotal: 1.17s\tremaining: 15.2s\n",
      "71:\tlearn: 0.0679319\ttotal: 1.18s\tremaining: 15.3s\n",
      "72:\tlearn: 0.0679306\ttotal: 1.2s\tremaining: 15.3s\n",
      "73:\tlearn: 0.0679295\ttotal: 1.22s\tremaining: 15.2s\n",
      "74:\tlearn: 0.0679283\ttotal: 1.27s\tremaining: 15.7s\n",
      "75:\tlearn: 0.0679270\ttotal: 1.3s\tremaining: 15.9s\n",
      "76:\tlearn: 0.0679257\ttotal: 1.53s\tremaining: 18.3s\n",
      "77:\tlearn: 0.0679243\ttotal: 1.54s\tremaining: 18.3s\n",
      "78:\tlearn: 0.0679230\ttotal: 1.56s\tremaining: 18.2s\n",
      "79:\tlearn: 0.0679218\ttotal: 1.57s\tremaining: 18.1s\n",
      "80:\tlearn: 0.0679207\ttotal: 1.58s\tremaining: 18s\n",
      "81:\tlearn: 0.0679198\ttotal: 1.6s\tremaining: 17.9s\n",
      "82:\tlearn: 0.0679188\ttotal: 1.61s\tremaining: 17.8s\n",
      "83:\tlearn: 0.0679173\ttotal: 1.63s\tremaining: 17.7s\n",
      "84:\tlearn: 0.0679160\ttotal: 1.64s\tremaining: 17.7s\n",
      "85:\tlearn: 0.0679148\ttotal: 1.67s\tremaining: 17.8s\n",
      "86:\tlearn: 0.0679136\ttotal: 1.69s\tremaining: 17.7s\n",
      "87:\tlearn: 0.0679124\ttotal: 1.7s\tremaining: 17.6s\n",
      "88:\tlearn: 0.0679115\ttotal: 1.71s\tremaining: 17.5s\n",
      "89:\tlearn: 0.0679101\ttotal: 1.72s\tremaining: 17.4s\n",
      "90:\tlearn: 0.0679092\ttotal: 1.74s\tremaining: 17.4s\n",
      "91:\tlearn: 0.0679081\ttotal: 1.76s\tremaining: 17.3s\n",
      "92:\tlearn: 0.0679068\ttotal: 1.77s\tremaining: 17.2s\n",
      "93:\tlearn: 0.0679056\ttotal: 1.78s\tremaining: 17.2s\n",
      "94:\tlearn: 0.0679045\ttotal: 1.8s\tremaining: 17.1s\n",
      "95:\tlearn: 0.0679034\ttotal: 1.82s\tremaining: 17.1s\n",
      "96:\tlearn: 0.0679026\ttotal: 1.89s\tremaining: 17.6s\n",
      "97:\tlearn: 0.0679020\ttotal: 1.91s\tremaining: 17.6s\n",
      "98:\tlearn: 0.0679009\ttotal: 1.93s\tremaining: 17.5s\n",
      "99:\tlearn: 0.0678998\ttotal: 1.96s\tremaining: 17.6s\n",
      "100:\tlearn: 0.0678991\ttotal: 1.98s\tremaining: 17.6s\n",
      "101:\tlearn: 0.0678980\ttotal: 2.01s\tremaining: 17.7s\n",
      "102:\tlearn: 0.0678969\ttotal: 2.04s\tremaining: 17.8s\n",
      "103:\tlearn: 0.0678958\ttotal: 2.07s\tremaining: 17.8s\n",
      "104:\tlearn: 0.0678950\ttotal: 2.1s\tremaining: 17.9s\n",
      "105:\tlearn: 0.0678939\ttotal: 2.16s\tremaining: 18.2s\n",
      "106:\tlearn: 0.0678929\ttotal: 2.18s\tremaining: 18.2s\n",
      "107:\tlearn: 0.0678921\ttotal: 2.2s\tremaining: 18.1s\n",
      "108:\tlearn: 0.0678910\ttotal: 2.23s\tremaining: 18.2s\n",
      "109:\tlearn: 0.0678902\ttotal: 2.24s\tremaining: 18.1s\n",
      "110:\tlearn: 0.0678894\ttotal: 2.25s\tremaining: 18s\n",
      "111:\tlearn: 0.0678887\ttotal: 2.26s\tremaining: 17.9s\n",
      "112:\tlearn: 0.0678877\ttotal: 2.27s\tremaining: 17.9s\n",
      "113:\tlearn: 0.0678866\ttotal: 2.29s\tremaining: 17.8s\n",
      "114:\tlearn: 0.0678856\ttotal: 2.3s\tremaining: 17.7s\n",
      "115:\tlearn: 0.0678846\ttotal: 2.32s\tremaining: 17.7s\n",
      "116:\tlearn: 0.0678835\ttotal: 2.33s\tremaining: 17.6s\n",
      "117:\tlearn: 0.0678827\ttotal: 2.35s\tremaining: 17.6s\n",
      "118:\tlearn: 0.0678821\ttotal: 2.37s\tremaining: 17.6s\n",
      "119:\tlearn: 0.0678811\ttotal: 2.4s\tremaining: 17.6s\n",
      "120:\tlearn: 0.0678802\ttotal: 2.41s\tremaining: 17.5s\n",
      "121:\tlearn: 0.0678793\ttotal: 2.43s\tremaining: 17.5s\n",
      "122:\tlearn: 0.0678787\ttotal: 2.45s\tremaining: 17.4s\n",
      "123:\tlearn: 0.0678778\ttotal: 2.46s\tremaining: 17.4s\n",
      "124:\tlearn: 0.0678768\ttotal: 2.48s\tremaining: 17.3s\n",
      "125:\tlearn: 0.0678761\ttotal: 2.51s\tremaining: 17.4s\n",
      "126:\tlearn: 0.0678751\ttotal: 2.53s\tremaining: 17.4s\n",
      "127:\tlearn: 0.0678746\ttotal: 2.58s\tremaining: 17.6s\n",
      "128:\tlearn: 0.0678736\ttotal: 2.61s\tremaining: 17.6s\n",
      "129:\tlearn: 0.0678729\ttotal: 2.63s\tremaining: 17.6s\n",
      "130:\tlearn: 0.0678721\ttotal: 2.64s\tremaining: 17.5s\n",
      "131:\tlearn: 0.0678713\ttotal: 2.65s\tremaining: 17.4s\n",
      "132:\tlearn: 0.0678704\ttotal: 2.67s\tremaining: 17.4s\n",
      "133:\tlearn: 0.0678695\ttotal: 2.69s\tremaining: 17.4s\n",
      "134:\tlearn: 0.0678686\ttotal: 2.71s\tremaining: 17.4s\n",
      "135:\tlearn: 0.0678679\ttotal: 2.75s\tremaining: 17.4s\n",
      "136:\tlearn: 0.0678670\ttotal: 2.77s\tremaining: 17.5s\n",
      "137:\tlearn: 0.0678666\ttotal: 2.88s\tremaining: 18s\n",
      "138:\tlearn: 0.0678660\ttotal: 2.91s\tremaining: 18s\n",
      "139:\tlearn: 0.0678651\ttotal: 2.92s\tremaining: 18s\n",
      "140:\tlearn: 0.0678642\ttotal: 2.94s\tremaining: 17.9s\n",
      "141:\tlearn: 0.0678634\ttotal: 2.96s\tremaining: 17.9s\n",
      "142:\tlearn: 0.0678627\ttotal: 2.98s\tremaining: 17.9s\n",
      "143:\tlearn: 0.0678619\ttotal: 3s\tremaining: 17.8s\n",
      "144:\tlearn: 0.0678612\ttotal: 3.01s\tremaining: 17.7s\n",
      "145:\tlearn: 0.0678603\ttotal: 3.02s\tremaining: 17.7s\n",
      "146:\tlearn: 0.0678595\ttotal: 3.03s\tremaining: 17.6s\n",
      "147:\tlearn: 0.0678588\ttotal: 3.04s\tremaining: 17.5s\n",
      "148:\tlearn: 0.0678584\ttotal: 3.06s\tremaining: 17.5s\n",
      "149:\tlearn: 0.0678577\ttotal: 3.07s\tremaining: 17.4s\n",
      "150:\tlearn: 0.0678569\ttotal: 3.08s\tremaining: 17.4s\n",
      "151:\tlearn: 0.0678560\ttotal: 3.12s\tremaining: 17.4s\n",
      "152:\tlearn: 0.0678555\ttotal: 3.14s\tremaining: 17.4s\n",
      "153:\tlearn: 0.0678547\ttotal: 3.17s\tremaining: 17.4s\n",
      "154:\tlearn: 0.0678541\ttotal: 3.19s\tremaining: 17.4s\n",
      "155:\tlearn: 0.0678533\ttotal: 3.22s\tremaining: 17.4s\n",
      "156:\tlearn: 0.0678526\ttotal: 3.25s\tremaining: 17.4s\n",
      "157:\tlearn: 0.0678518\ttotal: 3.28s\tremaining: 17.5s\n",
      "158:\tlearn: 0.0678511\ttotal: 3.31s\tremaining: 17.5s\n",
      "159:\tlearn: 0.0678503\ttotal: 3.33s\tremaining: 17.5s\n",
      "160:\tlearn: 0.0678497\ttotal: 3.35s\tremaining: 17.5s\n",
      "161:\tlearn: 0.0678490\ttotal: 3.37s\tremaining: 17.4s\n",
      "162:\tlearn: 0.0678482\ttotal: 3.38s\tremaining: 17.4s\n",
      "163:\tlearn: 0.0678476\ttotal: 3.39s\tremaining: 17.3s\n",
      "164:\tlearn: 0.0678470\ttotal: 3.4s\tremaining: 17.2s\n",
      "165:\tlearn: 0.0678462\ttotal: 3.41s\tremaining: 17.2s\n",
      "166:\tlearn: 0.0678455\ttotal: 3.43s\tremaining: 17.1s\n",
      "167:\tlearn: 0.0678448\ttotal: 3.44s\tremaining: 17s\n",
      "168:\tlearn: 0.0678443\ttotal: 3.45s\tremaining: 17s\n",
      "169:\tlearn: 0.0678437\ttotal: 3.46s\tremaining: 16.9s\n",
      "170:\tlearn: 0.0678432\ttotal: 3.48s\tremaining: 16.9s\n",
      "171:\tlearn: 0.0678426\ttotal: 3.49s\tremaining: 16.8s\n"
     ]
    },
    {
     "name": "stdout",
     "output_type": "stream",
     "text": [
      "172:\tlearn: 0.0678419\ttotal: 3.51s\tremaining: 16.8s\n",
      "173:\tlearn: 0.0678415\ttotal: 3.53s\tremaining: 16.7s\n",
      "174:\tlearn: 0.0678408\ttotal: 3.56s\tremaining: 16.8s\n",
      "175:\tlearn: 0.0678401\ttotal: 3.58s\tremaining: 16.8s\n",
      "176:\tlearn: 0.0678394\ttotal: 3.6s\tremaining: 16.8s\n",
      "177:\tlearn: 0.0678389\ttotal: 3.64s\tremaining: 16.8s\n",
      "178:\tlearn: 0.0678384\ttotal: 3.67s\tremaining: 16.8s\n",
      "179:\tlearn: 0.0678378\ttotal: 3.7s\tremaining: 16.9s\n",
      "180:\tlearn: 0.0678373\ttotal: 3.73s\tremaining: 16.9s\n",
      "181:\tlearn: 0.0678365\ttotal: 3.75s\tremaining: 16.8s\n",
      "182:\tlearn: 0.0678360\ttotal: 3.77s\tremaining: 16.8s\n",
      "183:\tlearn: 0.0678356\ttotal: 3.79s\tremaining: 16.8s\n",
      "184:\tlearn: 0.0678350\ttotal: 3.81s\tremaining: 16.8s\n",
      "185:\tlearn: 0.0678344\ttotal: 3.84s\tremaining: 16.8s\n",
      "186:\tlearn: 0.0678339\ttotal: 3.86s\tremaining: 16.8s\n",
      "187:\tlearn: 0.0678333\ttotal: 3.87s\tremaining: 16.7s\n",
      "188:\tlearn: 0.0678328\ttotal: 3.88s\tremaining: 16.7s\n",
      "189:\tlearn: 0.0678321\ttotal: 3.9s\tremaining: 16.6s\n",
      "190:\tlearn: 0.0678318\ttotal: 3.91s\tremaining: 16.6s\n",
      "191:\tlearn: 0.0678312\ttotal: 3.92s\tremaining: 16.5s\n",
      "192:\tlearn: 0.0678308\ttotal: 3.95s\tremaining: 16.5s\n",
      "193:\tlearn: 0.0678302\ttotal: 3.98s\tremaining: 16.5s\n",
      "194:\tlearn: 0.0678297\ttotal: 4.08s\tremaining: 16.8s\n",
      "195:\tlearn: 0.0678292\ttotal: 4.2s\tremaining: 17.2s\n",
      "196:\tlearn: 0.0678288\ttotal: 4.23s\tremaining: 17.2s\n",
      "197:\tlearn: 0.0678283\ttotal: 4.28s\tremaining: 17.3s\n",
      "198:\tlearn: 0.0678278\ttotal: 4.32s\tremaining: 17.4s\n",
      "199:\tlearn: 0.0678273\ttotal: 4.34s\tremaining: 17.4s\n",
      "200:\tlearn: 0.0678270\ttotal: 4.35s\tremaining: 17.3s\n",
      "201:\tlearn: 0.0678266\ttotal: 4.37s\tremaining: 17.3s\n",
      "202:\tlearn: 0.0678260\ttotal: 4.45s\tremaining: 17.5s\n",
      "203:\tlearn: 0.0678256\ttotal: 4.51s\tremaining: 17.6s\n",
      "204:\tlearn: 0.0678250\ttotal: 4.57s\tremaining: 17.7s\n",
      "205:\tlearn: 0.0678246\ttotal: 4.58s\tremaining: 17.7s\n",
      "206:\tlearn: 0.0678241\ttotal: 4.6s\tremaining: 17.6s\n",
      "207:\tlearn: 0.0678236\ttotal: 4.61s\tremaining: 17.6s\n",
      "208:\tlearn: 0.0678231\ttotal: 4.63s\tremaining: 17.5s\n",
      "209:\tlearn: 0.0678227\ttotal: 4.64s\tremaining: 17.4s\n",
      "210:\tlearn: 0.0678222\ttotal: 4.65s\tremaining: 17.4s\n",
      "211:\tlearn: 0.0678217\ttotal: 4.66s\tremaining: 17.3s\n",
      "212:\tlearn: 0.0678213\ttotal: 4.69s\tremaining: 17.3s\n",
      "213:\tlearn: 0.0678208\ttotal: 4.71s\tremaining: 17.3s\n",
      "214:\tlearn: 0.0678203\ttotal: 4.72s\tremaining: 17.2s\n",
      "215:\tlearn: 0.0678200\ttotal: 4.73s\tremaining: 17.2s\n",
      "216:\tlearn: 0.0678196\ttotal: 4.75s\tremaining: 17.1s\n",
      "217:\tlearn: 0.0678191\ttotal: 4.76s\tremaining: 17.1s\n",
      "218:\tlearn: 0.0678186\ttotal: 4.77s\tremaining: 17s\n",
      "219:\tlearn: 0.0678182\ttotal: 4.78s\tremaining: 17s\n",
      "220:\tlearn: 0.0678178\ttotal: 4.79s\tremaining: 16.9s\n",
      "221:\tlearn: 0.0678175\ttotal: 4.8s\tremaining: 16.8s\n",
      "222:\tlearn: 0.0678168\ttotal: 4.82s\tremaining: 16.8s\n",
      "223:\tlearn: 0.0678163\ttotal: 4.83s\tremaining: 16.7s\n",
      "224:\tlearn: 0.0678158\ttotal: 4.84s\tremaining: 16.7s\n",
      "225:\tlearn: 0.0678153\ttotal: 4.87s\tremaining: 16.7s\n",
      "226:\tlearn: 0.0678146\ttotal: 4.89s\tremaining: 16.7s\n",
      "227:\tlearn: 0.0678142\ttotal: 4.9s\tremaining: 16.6s\n",
      "228:\tlearn: 0.0678136\ttotal: 4.91s\tremaining: 16.5s\n",
      "229:\tlearn: 0.0678132\ttotal: 4.94s\tremaining: 16.5s\n",
      "230:\tlearn: 0.0678128\ttotal: 4.95s\tremaining: 16.5s\n",
      "231:\tlearn: 0.0678122\ttotal: 4.96s\tremaining: 16.4s\n",
      "232:\tlearn: 0.0678116\ttotal: 4.98s\tremaining: 16.4s\n",
      "233:\tlearn: 0.0678111\ttotal: 5.01s\tremaining: 16.4s\n",
      "234:\tlearn: 0.0678107\ttotal: 5.04s\tremaining: 16.4s\n",
      "235:\tlearn: 0.0678103\ttotal: 5.06s\tremaining: 16.4s\n",
      "236:\tlearn: 0.0678099\ttotal: 5.12s\tremaining: 16.5s\n",
      "237:\tlearn: 0.0678094\ttotal: 5.15s\tremaining: 16.5s\n",
      "238:\tlearn: 0.0678092\ttotal: 5.17s\tremaining: 16.5s\n",
      "239:\tlearn: 0.0678086\ttotal: 5.19s\tremaining: 16.4s\n",
      "240:\tlearn: 0.0678083\ttotal: 5.2s\tremaining: 16.4s\n",
      "241:\tlearn: 0.0678079\ttotal: 5.22s\tremaining: 16.3s\n",
      "242:\tlearn: 0.0678076\ttotal: 5.23s\tremaining: 16.3s\n",
      "243:\tlearn: 0.0678072\ttotal: 5.24s\tremaining: 16.2s\n",
      "244:\tlearn: 0.0678066\ttotal: 5.25s\tremaining: 16.2s\n",
      "245:\tlearn: 0.0678062\ttotal: 5.27s\tremaining: 16.1s\n",
      "246:\tlearn: 0.0678057\ttotal: 5.28s\tremaining: 16.1s\n",
      "247:\tlearn: 0.0678052\ttotal: 5.29s\tremaining: 16s\n",
      "248:\tlearn: 0.0678048\ttotal: 5.3s\tremaining: 16s\n",
      "249:\tlearn: 0.0678047\ttotal: 5.31s\tremaining: 15.9s\n",
      "250:\tlearn: 0.0678044\ttotal: 5.33s\tremaining: 15.9s\n",
      "251:\tlearn: 0.0678039\ttotal: 5.34s\tremaining: 15.9s\n",
      "252:\tlearn: 0.0678035\ttotal: 5.37s\tremaining: 15.8s\n",
      "253:\tlearn: 0.0678033\ttotal: 5.39s\tremaining: 15.8s\n",
      "254:\tlearn: 0.0678029\ttotal: 5.42s\tremaining: 15.8s\n",
      "255:\tlearn: 0.0678026\ttotal: 5.44s\tremaining: 15.8s\n",
      "256:\tlearn: 0.0678022\ttotal: 5.46s\tremaining: 15.8s\n",
      "257:\tlearn: 0.0678020\ttotal: 5.48s\tremaining: 15.8s\n",
      "258:\tlearn: 0.0678016\ttotal: 5.49s\tremaining: 15.7s\n",
      "259:\tlearn: 0.0678012\ttotal: 5.5s\tremaining: 15.7s\n",
      "260:\tlearn: 0.0678008\ttotal: 5.51s\tremaining: 15.6s\n",
      "261:\tlearn: 0.0678002\ttotal: 5.53s\tremaining: 15.6s\n",
      "262:\tlearn: 0.0677998\ttotal: 5.55s\tremaining: 15.5s\n",
      "263:\tlearn: 0.0677994\ttotal: 5.57s\tremaining: 15.5s\n",
      "264:\tlearn: 0.0677992\ttotal: 5.59s\tremaining: 15.5s\n",
      "265:\tlearn: 0.0677988\ttotal: 5.61s\tremaining: 15.5s\n",
      "266:\tlearn: 0.0677985\ttotal: 5.62s\tremaining: 15.4s\n",
      "267:\tlearn: 0.0677982\ttotal: 5.63s\tremaining: 15.4s\n",
      "268:\tlearn: 0.0677979\ttotal: 5.64s\tremaining: 15.3s\n",
      "269:\tlearn: 0.0677977\ttotal: 5.66s\tremaining: 15.3s\n",
      "270:\tlearn: 0.0677974\ttotal: 5.67s\tremaining: 15.2s\n",
      "271:\tlearn: 0.0677971\ttotal: 5.68s\tremaining: 15.2s\n",
      "272:\tlearn: 0.0677967\ttotal: 5.69s\tremaining: 15.2s\n",
      "273:\tlearn: 0.0677960\ttotal: 5.7s\tremaining: 15.1s\n",
      "274:\tlearn: 0.0677957\ttotal: 5.72s\tremaining: 15.1s\n",
      "275:\tlearn: 0.0677953\ttotal: 5.73s\tremaining: 15s\n",
      "276:\tlearn: 0.0677948\ttotal: 5.75s\tremaining: 15s\n",
      "277:\tlearn: 0.0677943\ttotal: 5.76s\tremaining: 15s\n",
      "278:\tlearn: 0.0677940\ttotal: 5.78s\tremaining: 14.9s\n",
      "279:\tlearn: 0.0677936\ttotal: 5.8s\tremaining: 14.9s\n",
      "280:\tlearn: 0.0677932\ttotal: 5.82s\tremaining: 14.9s\n",
      "281:\tlearn: 0.0677928\ttotal: 5.99s\tremaining: 15.3s\n",
      "282:\tlearn: 0.0677926\ttotal: 6.01s\tremaining: 15.2s\n",
      "283:\tlearn: 0.0677922\ttotal: 6.02s\tremaining: 15.2s\n",
      "284:\tlearn: 0.0677917\ttotal: 6.03s\tremaining: 15.1s\n",
      "285:\tlearn: 0.0677915\ttotal: 6.04s\tremaining: 15.1s\n",
      "286:\tlearn: 0.0677912\ttotal: 6.06s\tremaining: 15s\n",
      "287:\tlearn: 0.0677907\ttotal: 6.07s\tremaining: 15s\n",
      "288:\tlearn: 0.0677904\ttotal: 6.08s\tremaining: 15s\n",
      "289:\tlearn: 0.0677899\ttotal: 6.09s\tremaining: 14.9s\n",
      "290:\tlearn: 0.0677897\ttotal: 6.11s\tremaining: 14.9s\n",
      "291:\tlearn: 0.0677892\ttotal: 6.12s\tremaining: 14.8s\n",
      "292:\tlearn: 0.0677889\ttotal: 6.13s\tremaining: 14.8s\n",
      "293:\tlearn: 0.0677886\ttotal: 6.14s\tremaining: 14.7s\n",
      "294:\tlearn: 0.0677883\ttotal: 6.16s\tremaining: 14.7s\n",
      "295:\tlearn: 0.0677880\ttotal: 6.17s\tremaining: 14.7s\n",
      "296:\tlearn: 0.0677878\ttotal: 6.19s\tremaining: 14.7s\n",
      "297:\tlearn: 0.0677874\ttotal: 6.22s\tremaining: 14.7s\n",
      "298:\tlearn: 0.0677871\ttotal: 6.24s\tremaining: 14.6s\n",
      "299:\tlearn: 0.0677866\ttotal: 6.25s\tremaining: 14.6s\n",
      "300:\tlearn: 0.0677865\ttotal: 6.26s\tremaining: 14.5s\n",
      "301:\tlearn: 0.0677862\ttotal: 6.28s\tremaining: 14.5s\n",
      "302:\tlearn: 0.0677860\ttotal: 6.29s\tremaining: 14.5s\n",
      "303:\tlearn: 0.0677857\ttotal: 6.32s\tremaining: 14.5s\n",
      "304:\tlearn: 0.0677854\ttotal: 6.35s\tremaining: 14.5s\n",
      "305:\tlearn: 0.0677850\ttotal: 6.38s\tremaining: 14.5s\n",
      "306:\tlearn: 0.0677848\ttotal: 6.43s\tremaining: 14.5s\n",
      "307:\tlearn: 0.0677846\ttotal: 6.45s\tremaining: 14.5s\n",
      "308:\tlearn: 0.0677844\ttotal: 6.48s\tremaining: 14.5s\n",
      "309:\tlearn: 0.0677841\ttotal: 6.5s\tremaining: 14.5s\n",
      "310:\tlearn: 0.0677838\ttotal: 6.53s\tremaining: 14.5s\n",
      "311:\tlearn: 0.0677834\ttotal: 6.54s\tremaining: 14.4s\n",
      "312:\tlearn: 0.0677833\ttotal: 6.56s\tremaining: 14.4s\n",
      "313:\tlearn: 0.0677829\ttotal: 6.57s\tremaining: 14.3s\n",
      "314:\tlearn: 0.0677826\ttotal: 6.58s\tremaining: 14.3s\n",
      "315:\tlearn: 0.0677823\ttotal: 6.59s\tremaining: 14.3s\n",
      "316:\tlearn: 0.0677818\ttotal: 6.61s\tremaining: 14.2s\n",
      "317:\tlearn: 0.0677816\ttotal: 6.62s\tremaining: 14.2s\n",
      "318:\tlearn: 0.0677812\ttotal: 6.63s\tremaining: 14.2s\n",
      "319:\tlearn: 0.0677808\ttotal: 6.65s\tremaining: 14.1s\n",
      "320:\tlearn: 0.0677805\ttotal: 6.67s\tremaining: 14.1s\n",
      "321:\tlearn: 0.0677801\ttotal: 6.69s\tremaining: 14.1s\n",
      "322:\tlearn: 0.0677798\ttotal: 6.72s\tremaining: 14.1s\n",
      "323:\tlearn: 0.0677794\ttotal: 6.74s\tremaining: 14.1s\n",
      "324:\tlearn: 0.0677790\ttotal: 6.76s\tremaining: 14s\n",
      "325:\tlearn: 0.0677788\ttotal: 6.78s\tremaining: 14s\n",
      "326:\tlearn: 0.0677785\ttotal: 6.79s\tremaining: 14s\n",
      "327:\tlearn: 0.0677783\ttotal: 6.82s\tremaining: 14s\n",
      "328:\tlearn: 0.0677780\ttotal: 6.83s\tremaining: 13.9s\n",
      "329:\tlearn: 0.0677775\ttotal: 6.85s\tremaining: 13.9s\n",
      "330:\tlearn: 0.0677773\ttotal: 6.87s\tremaining: 13.9s\n",
      "331:\tlearn: 0.0677770\ttotal: 6.88s\tremaining: 13.8s\n",
      "332:\tlearn: 0.0677767\ttotal: 6.89s\tremaining: 13.8s\n",
      "333:\tlearn: 0.0677764\ttotal: 6.9s\tremaining: 13.8s\n",
      "334:\tlearn: 0.0677762\ttotal: 6.92s\tremaining: 13.7s\n",
      "335:\tlearn: 0.0677760\ttotal: 6.93s\tremaining: 13.7s\n",
      "336:\tlearn: 0.0677755\ttotal: 6.94s\tremaining: 13.7s\n",
      "337:\tlearn: 0.0677752\ttotal: 6.95s\tremaining: 13.6s\n",
      "338:\tlearn: 0.0677748\ttotal: 6.96s\tremaining: 13.6s\n",
      "339:\tlearn: 0.0677745\ttotal: 6.97s\tremaining: 13.5s\n",
      "340:\tlearn: 0.0677743\ttotal: 6.99s\tremaining: 13.5s\n",
      "341:\tlearn: 0.0677740\ttotal: 7s\tremaining: 13.5s\n",
      "342:\tlearn: 0.0677737\ttotal: 7.01s\tremaining: 13.4s\n",
      "343:\tlearn: 0.0677734\ttotal: 7.02s\tremaining: 13.4s\n"
     ]
    },
    {
     "name": "stdout",
     "output_type": "stream",
     "text": [
      "344:\tlearn: 0.0677731\ttotal: 7.03s\tremaining: 13.4s\n",
      "345:\tlearn: 0.0677728\ttotal: 7.05s\tremaining: 13.3s\n",
      "346:\tlearn: 0.0677726\ttotal: 7.07s\tremaining: 13.3s\n",
      "347:\tlearn: 0.0677724\ttotal: 7.08s\tremaining: 13.3s\n",
      "348:\tlearn: 0.0677721\ttotal: 7.09s\tremaining: 13.2s\n",
      "349:\tlearn: 0.0677718\ttotal: 7.1s\tremaining: 13.2s\n",
      "350:\tlearn: 0.0677716\ttotal: 7.12s\tremaining: 13.2s\n",
      "351:\tlearn: 0.0677713\ttotal: 7.13s\tremaining: 13.1s\n",
      "352:\tlearn: 0.0677711\ttotal: 7.14s\tremaining: 13.1s\n",
      "353:\tlearn: 0.0677709\ttotal: 7.15s\tremaining: 13s\n",
      "354:\tlearn: 0.0677705\ttotal: 7.16s\tremaining: 13s\n",
      "355:\tlearn: 0.0677701\ttotal: 7.17s\tremaining: 13s\n",
      "356:\tlearn: 0.0677698\ttotal: 7.18s\tremaining: 12.9s\n",
      "357:\tlearn: 0.0677695\ttotal: 7.19s\tremaining: 12.9s\n",
      "358:\tlearn: 0.0677690\ttotal: 7.21s\tremaining: 12.9s\n",
      "359:\tlearn: 0.0677687\ttotal: 7.22s\tremaining: 12.8s\n",
      "360:\tlearn: 0.0677685\ttotal: 7.23s\tremaining: 12.8s\n",
      "361:\tlearn: 0.0677681\ttotal: 7.25s\tremaining: 12.8s\n",
      "362:\tlearn: 0.0677678\ttotal: 7.26s\tremaining: 12.7s\n",
      "363:\tlearn: 0.0677675\ttotal: 7.27s\tremaining: 12.7s\n",
      "364:\tlearn: 0.0677672\ttotal: 7.28s\tremaining: 12.7s\n",
      "365:\tlearn: 0.0677670\ttotal: 7.29s\tremaining: 12.6s\n",
      "366:\tlearn: 0.0677667\ttotal: 7.31s\tremaining: 12.6s\n",
      "367:\tlearn: 0.0677665\ttotal: 7.32s\tremaining: 12.6s\n",
      "368:\tlearn: 0.0677662\ttotal: 7.34s\tremaining: 12.6s\n",
      "369:\tlearn: 0.0677657\ttotal: 7.36s\tremaining: 12.5s\n",
      "370:\tlearn: 0.0677655\ttotal: 7.38s\tremaining: 12.5s\n",
      "371:\tlearn: 0.0677652\ttotal: 7.39s\tremaining: 12.5s\n",
      "372:\tlearn: 0.0677650\ttotal: 7.41s\tremaining: 12.5s\n",
      "373:\tlearn: 0.0677648\ttotal: 7.44s\tremaining: 12.5s\n",
      "374:\tlearn: 0.0677647\ttotal: 7.46s\tremaining: 12.4s\n",
      "375:\tlearn: 0.0677641\ttotal: 7.49s\tremaining: 12.4s\n",
      "376:\tlearn: 0.0677640\ttotal: 7.51s\tremaining: 12.4s\n",
      "377:\tlearn: 0.0677636\ttotal: 7.53s\tremaining: 12.4s\n",
      "378:\tlearn: 0.0677633\ttotal: 7.54s\tremaining: 12.4s\n",
      "379:\tlearn: 0.0677631\ttotal: 7.56s\tremaining: 12.3s\n",
      "380:\tlearn: 0.0677628\ttotal: 7.57s\tremaining: 12.3s\n",
      "381:\tlearn: 0.0677627\ttotal: 7.59s\tremaining: 12.3s\n",
      "382:\tlearn: 0.0677624\ttotal: 7.6s\tremaining: 12.2s\n",
      "383:\tlearn: 0.0677621\ttotal: 7.62s\tremaining: 12.2s\n",
      "384:\tlearn: 0.0677619\ttotal: 7.63s\tremaining: 12.2s\n",
      "385:\tlearn: 0.0677617\ttotal: 7.66s\tremaining: 12.2s\n",
      "386:\tlearn: 0.0677615\ttotal: 7.67s\tremaining: 12.2s\n",
      "387:\tlearn: 0.0677613\ttotal: 7.68s\tremaining: 12.1s\n",
      "388:\tlearn: 0.0677611\ttotal: 7.69s\tremaining: 12.1s\n",
      "389:\tlearn: 0.0677608\ttotal: 7.71s\tremaining: 12.1s\n",
      "390:\tlearn: 0.0677605\ttotal: 7.72s\tremaining: 12s\n",
      "391:\tlearn: 0.0677602\ttotal: 7.73s\tremaining: 12s\n",
      "392:\tlearn: 0.0677600\ttotal: 7.74s\tremaining: 12s\n",
      "393:\tlearn: 0.0677594\ttotal: 7.75s\tremaining: 11.9s\n",
      "394:\tlearn: 0.0677593\ttotal: 7.76s\tremaining: 11.9s\n",
      "395:\tlearn: 0.0677592\ttotal: 7.77s\tremaining: 11.9s\n",
      "396:\tlearn: 0.0677590\ttotal: 7.79s\tremaining: 11.8s\n",
      "397:\tlearn: 0.0677587\ttotal: 7.8s\tremaining: 11.8s\n",
      "398:\tlearn: 0.0677584\ttotal: 7.81s\tremaining: 11.8s\n",
      "399:\tlearn: 0.0677583\ttotal: 7.82s\tremaining: 11.7s\n",
      "400:\tlearn: 0.0677577\ttotal: 7.83s\tremaining: 11.7s\n",
      "401:\tlearn: 0.0677572\ttotal: 7.84s\tremaining: 11.7s\n",
      "402:\tlearn: 0.0677570\ttotal: 7.85s\tremaining: 11.6s\n",
      "403:\tlearn: 0.0677568\ttotal: 7.87s\tremaining: 11.6s\n",
      "404:\tlearn: 0.0677564\ttotal: 7.88s\tremaining: 11.6s\n",
      "405:\tlearn: 0.0677562\ttotal: 7.9s\tremaining: 11.6s\n",
      "406:\tlearn: 0.0677560\ttotal: 7.91s\tremaining: 11.5s\n",
      "407:\tlearn: 0.0677558\ttotal: 7.92s\tremaining: 11.5s\n",
      "408:\tlearn: 0.0677557\ttotal: 7.93s\tremaining: 11.5s\n",
      "409:\tlearn: 0.0677554\ttotal: 7.94s\tremaining: 11.4s\n",
      "410:\tlearn: 0.0677550\ttotal: 7.96s\tremaining: 11.4s\n",
      "411:\tlearn: 0.0677548\ttotal: 7.97s\tremaining: 11.4s\n",
      "412:\tlearn: 0.0677545\ttotal: 7.98s\tremaining: 11.3s\n",
      "413:\tlearn: 0.0677541\ttotal: 7.99s\tremaining: 11.3s\n",
      "414:\tlearn: 0.0677538\ttotal: 8s\tremaining: 11.3s\n",
      "415:\tlearn: 0.0677535\ttotal: 8.01s\tremaining: 11.2s\n",
      "416:\tlearn: 0.0677532\ttotal: 8.02s\tremaining: 11.2s\n",
      "417:\tlearn: 0.0677530\ttotal: 8.03s\tremaining: 11.2s\n",
      "418:\tlearn: 0.0677528\ttotal: 8.04s\tremaining: 11.2s\n",
      "419:\tlearn: 0.0677526\ttotal: 8.06s\tremaining: 11.1s\n",
      "420:\tlearn: 0.0677523\ttotal: 8.07s\tremaining: 11.1s\n",
      "421:\tlearn: 0.0677521\ttotal: 8.09s\tremaining: 11.1s\n",
      "422:\tlearn: 0.0677519\ttotal: 8.1s\tremaining: 11s\n",
      "423:\tlearn: 0.0677516\ttotal: 8.11s\tremaining: 11s\n",
      "424:\tlearn: 0.0677515\ttotal: 8.12s\tremaining: 11s\n",
      "425:\tlearn: 0.0677512\ttotal: 8.13s\tremaining: 11s\n",
      "426:\tlearn: 0.0677509\ttotal: 8.14s\tremaining: 10.9s\n",
      "427:\tlearn: 0.0677506\ttotal: 8.16s\tremaining: 10.9s\n",
      "428:\tlearn: 0.0677505\ttotal: 8.17s\tremaining: 10.9s\n",
      "429:\tlearn: 0.0677502\ttotal: 8.18s\tremaining: 10.8s\n",
      "430:\tlearn: 0.0677500\ttotal: 8.19s\tremaining: 10.8s\n",
      "431:\tlearn: 0.0677497\ttotal: 8.2s\tremaining: 10.8s\n",
      "432:\tlearn: 0.0677494\ttotal: 8.21s\tremaining: 10.8s\n",
      "433:\tlearn: 0.0677492\ttotal: 8.23s\tremaining: 10.7s\n",
      "434:\tlearn: 0.0677490\ttotal: 8.24s\tremaining: 10.7s\n",
      "435:\tlearn: 0.0677488\ttotal: 8.25s\tremaining: 10.7s\n",
      "436:\tlearn: 0.0677487\ttotal: 8.27s\tremaining: 10.7s\n",
      "437:\tlearn: 0.0677485\ttotal: 8.29s\tremaining: 10.6s\n",
      "438:\tlearn: 0.0677482\ttotal: 8.3s\tremaining: 10.6s\n",
      "439:\tlearn: 0.0677477\ttotal: 8.31s\tremaining: 10.6s\n",
      "440:\tlearn: 0.0677475\ttotal: 8.32s\tremaining: 10.5s\n",
      "441:\tlearn: 0.0677471\ttotal: 8.33s\tremaining: 10.5s\n",
      "442:\tlearn: 0.0677468\ttotal: 8.34s\tremaining: 10.5s\n",
      "443:\tlearn: 0.0677466\ttotal: 8.36s\tremaining: 10.5s\n",
      "444:\tlearn: 0.0677462\ttotal: 8.37s\tremaining: 10.4s\n",
      "445:\tlearn: 0.0677460\ttotal: 8.38s\tremaining: 10.4s\n",
      "446:\tlearn: 0.0677459\ttotal: 8.39s\tremaining: 10.4s\n",
      "447:\tlearn: 0.0677456\ttotal: 8.4s\tremaining: 10.4s\n",
      "448:\tlearn: 0.0677452\ttotal: 8.41s\tremaining: 10.3s\n",
      "449:\tlearn: 0.0677449\ttotal: 8.43s\tremaining: 10.3s\n",
      "450:\tlearn: 0.0677446\ttotal: 8.44s\tremaining: 10.3s\n",
      "451:\tlearn: 0.0677442\ttotal: 8.45s\tremaining: 10.2s\n",
      "452:\tlearn: 0.0677438\ttotal: 8.46s\tremaining: 10.2s\n",
      "453:\tlearn: 0.0677435\ttotal: 8.48s\tremaining: 10.2s\n",
      "454:\tlearn: 0.0677433\ttotal: 8.49s\tremaining: 10.2s\n",
      "455:\tlearn: 0.0677430\ttotal: 8.5s\tremaining: 10.1s\n",
      "456:\tlearn: 0.0677427\ttotal: 8.52s\tremaining: 10.1s\n",
      "457:\tlearn: 0.0677423\ttotal: 8.53s\tremaining: 10.1s\n",
      "458:\tlearn: 0.0677422\ttotal: 8.54s\tremaining: 10.1s\n",
      "459:\tlearn: 0.0677420\ttotal: 8.55s\tremaining: 10s\n",
      "460:\tlearn: 0.0677418\ttotal: 8.56s\tremaining: 10s\n",
      "461:\tlearn: 0.0677416\ttotal: 8.57s\tremaining: 9.98s\n",
      "462:\tlearn: 0.0677413\ttotal: 8.59s\tremaining: 9.96s\n",
      "463:\tlearn: 0.0677412\ttotal: 8.6s\tremaining: 9.93s\n",
      "464:\tlearn: 0.0677409\ttotal: 8.61s\tremaining: 9.9s\n",
      "465:\tlearn: 0.0677408\ttotal: 8.62s\tremaining: 9.88s\n",
      "466:\tlearn: 0.0677406\ttotal: 8.63s\tremaining: 9.85s\n",
      "467:\tlearn: 0.0677404\ttotal: 8.64s\tremaining: 9.83s\n",
      "468:\tlearn: 0.0677402\ttotal: 8.66s\tremaining: 9.8s\n",
      "469:\tlearn: 0.0677401\ttotal: 8.67s\tremaining: 9.78s\n",
      "470:\tlearn: 0.0677399\ttotal: 8.68s\tremaining: 9.75s\n",
      "471:\tlearn: 0.0677397\ttotal: 8.7s\tremaining: 9.73s\n",
      "472:\tlearn: 0.0677395\ttotal: 8.71s\tremaining: 9.71s\n",
      "473:\tlearn: 0.0677394\ttotal: 8.73s\tremaining: 9.68s\n",
      "474:\tlearn: 0.0677392\ttotal: 8.74s\tremaining: 9.66s\n",
      "475:\tlearn: 0.0677391\ttotal: 8.75s\tremaining: 9.63s\n",
      "476:\tlearn: 0.0677389\ttotal: 8.76s\tremaining: 9.61s\n",
      "477:\tlearn: 0.0677387\ttotal: 8.77s\tremaining: 9.58s\n",
      "478:\tlearn: 0.0677385\ttotal: 8.79s\tremaining: 9.55s\n",
      "479:\tlearn: 0.0677383\ttotal: 8.79s\tremaining: 9.53s\n",
      "480:\tlearn: 0.0677381\ttotal: 8.81s\tremaining: 9.5s\n",
      "481:\tlearn: 0.0677380\ttotal: 8.82s\tremaining: 9.48s\n",
      "482:\tlearn: 0.0677377\ttotal: 8.83s\tremaining: 9.45s\n",
      "483:\tlearn: 0.0677375\ttotal: 8.84s\tremaining: 9.43s\n",
      "484:\tlearn: 0.0677371\ttotal: 8.85s\tremaining: 9.4s\n",
      "485:\tlearn: 0.0677369\ttotal: 8.86s\tremaining: 9.37s\n",
      "486:\tlearn: 0.0677364\ttotal: 8.87s\tremaining: 9.35s\n",
      "487:\tlearn: 0.0677363\ttotal: 8.89s\tremaining: 9.32s\n",
      "488:\tlearn: 0.0677361\ttotal: 8.91s\tremaining: 9.31s\n",
      "489:\tlearn: 0.0677359\ttotal: 8.92s\tremaining: 9.29s\n",
      "490:\tlearn: 0.0677357\ttotal: 8.93s\tremaining: 9.26s\n",
      "491:\tlearn: 0.0677355\ttotal: 8.95s\tremaining: 9.24s\n",
      "492:\tlearn: 0.0677353\ttotal: 8.96s\tremaining: 9.21s\n",
      "493:\tlearn: 0.0677352\ttotal: 8.97s\tremaining: 9.19s\n",
      "494:\tlearn: 0.0677348\ttotal: 8.98s\tremaining: 9.16s\n",
      "495:\tlearn: 0.0677347\ttotal: 8.99s\tremaining: 9.13s\n",
      "496:\tlearn: 0.0677345\ttotal: 9s\tremaining: 9.11s\n",
      "497:\tlearn: 0.0677344\ttotal: 9.01s\tremaining: 9.09s\n",
      "498:\tlearn: 0.0677342\ttotal: 9.03s\tremaining: 9.06s\n",
      "499:\tlearn: 0.0677340\ttotal: 9.04s\tremaining: 9.04s\n",
      "500:\tlearn: 0.0677337\ttotal: 9.05s\tremaining: 9.01s\n",
      "501:\tlearn: 0.0677334\ttotal: 9.06s\tremaining: 8.99s\n",
      "502:\tlearn: 0.0677332\ttotal: 9.07s\tremaining: 8.96s\n",
      "503:\tlearn: 0.0677330\ttotal: 9.08s\tremaining: 8.94s\n"
     ]
    },
    {
     "name": "stdout",
     "output_type": "stream",
     "text": [
      "504:\tlearn: 0.0677328\ttotal: 9.11s\tremaining: 8.93s\n",
      "505:\tlearn: 0.0677324\ttotal: 9.13s\tremaining: 8.91s\n",
      "506:\tlearn: 0.0677322\ttotal: 9.14s\tremaining: 8.89s\n",
      "507:\tlearn: 0.0677320\ttotal: 9.15s\tremaining: 8.86s\n",
      "508:\tlearn: 0.0677317\ttotal: 9.16s\tremaining: 8.84s\n",
      "509:\tlearn: 0.0677313\ttotal: 9.18s\tremaining: 8.81s\n",
      "510:\tlearn: 0.0677312\ttotal: 9.19s\tremaining: 8.79s\n",
      "511:\tlearn: 0.0677309\ttotal: 9.2s\tremaining: 8.77s\n",
      "512:\tlearn: 0.0677308\ttotal: 9.21s\tremaining: 8.74s\n",
      "513:\tlearn: 0.0677307\ttotal: 9.22s\tremaining: 8.72s\n",
      "514:\tlearn: 0.0677305\ttotal: 9.24s\tremaining: 8.7s\n",
      "515:\tlearn: 0.0677302\ttotal: 9.26s\tremaining: 8.69s\n",
      "516:\tlearn: 0.0677300\ttotal: 9.28s\tremaining: 8.67s\n",
      "517:\tlearn: 0.0677298\ttotal: 9.29s\tremaining: 8.65s\n",
      "518:\tlearn: 0.0677296\ttotal: 9.31s\tremaining: 8.63s\n",
      "519:\tlearn: 0.0677292\ttotal: 9.34s\tremaining: 8.62s\n",
      "520:\tlearn: 0.0677290\ttotal: 9.35s\tremaining: 8.6s\n",
      "521:\tlearn: 0.0677289\ttotal: 9.36s\tremaining: 8.57s\n",
      "522:\tlearn: 0.0677287\ttotal: 9.38s\tremaining: 8.55s\n",
      "523:\tlearn: 0.0677285\ttotal: 9.39s\tremaining: 8.53s\n",
      "524:\tlearn: 0.0677283\ttotal: 9.4s\tremaining: 8.51s\n",
      "525:\tlearn: 0.0677281\ttotal: 9.41s\tremaining: 8.48s\n",
      "526:\tlearn: 0.0677280\ttotal: 9.43s\tremaining: 8.46s\n",
      "527:\tlearn: 0.0677278\ttotal: 9.44s\tremaining: 8.44s\n",
      "528:\tlearn: 0.0677274\ttotal: 9.45s\tremaining: 8.42s\n",
      "529:\tlearn: 0.0677271\ttotal: 9.47s\tremaining: 8.4s\n",
      "530:\tlearn: 0.0677269\ttotal: 9.49s\tremaining: 8.38s\n",
      "531:\tlearn: 0.0677267\ttotal: 9.51s\tremaining: 8.37s\n",
      "532:\tlearn: 0.0677266\ttotal: 9.54s\tremaining: 8.36s\n",
      "533:\tlearn: 0.0677263\ttotal: 9.55s\tremaining: 8.34s\n",
      "534:\tlearn: 0.0677260\ttotal: 9.58s\tremaining: 8.32s\n",
      "535:\tlearn: 0.0677258\ttotal: 9.61s\tremaining: 8.32s\n",
      "536:\tlearn: 0.0677257\ttotal: 9.63s\tremaining: 8.3s\n",
      "537:\tlearn: 0.0677255\ttotal: 9.66s\tremaining: 8.29s\n",
      "538:\tlearn: 0.0677253\ttotal: 9.69s\tremaining: 8.29s\n",
      "539:\tlearn: 0.0677252\ttotal: 9.71s\tremaining: 8.27s\n",
      "540:\tlearn: 0.0677250\ttotal: 9.73s\tremaining: 8.25s\n",
      "541:\tlearn: 0.0677248\ttotal: 9.75s\tremaining: 8.24s\n",
      "542:\tlearn: 0.0677246\ttotal: 9.78s\tremaining: 8.23s\n",
      "543:\tlearn: 0.0677245\ttotal: 9.8s\tremaining: 8.22s\n",
      "544:\tlearn: 0.0677244\ttotal: 9.82s\tremaining: 8.2s\n",
      "545:\tlearn: 0.0677241\ttotal: 9.84s\tremaining: 8.19s\n",
      "546:\tlearn: 0.0677239\ttotal: 9.87s\tremaining: 8.17s\n",
      "547:\tlearn: 0.0677237\ttotal: 9.89s\tremaining: 8.16s\n",
      "548:\tlearn: 0.0677234\ttotal: 9.96s\tremaining: 8.18s\n",
      "549:\tlearn: 0.0677232\ttotal: 10s\tremaining: 8.19s\n",
      "550:\tlearn: 0.0677231\ttotal: 10s\tremaining: 8.18s\n",
      "551:\tlearn: 0.0677228\ttotal: 10.1s\tremaining: 8.16s\n",
      "552:\tlearn: 0.0677227\ttotal: 10.1s\tremaining: 8.15s\n",
      "553:\tlearn: 0.0677226\ttotal: 10.1s\tremaining: 8.13s\n",
      "554:\tlearn: 0.0677224\ttotal: 10.1s\tremaining: 8.11s\n",
      "555:\tlearn: 0.0677223\ttotal: 10.1s\tremaining: 8.1s\n",
      "556:\tlearn: 0.0677221\ttotal: 10.2s\tremaining: 8.09s\n",
      "557:\tlearn: 0.0677218\ttotal: 10.2s\tremaining: 8.09s\n",
      "558:\tlearn: 0.0677215\ttotal: 10.2s\tremaining: 8.08s\n",
      "559:\tlearn: 0.0677213\ttotal: 10.3s\tremaining: 8.07s\n",
      "560:\tlearn: 0.0677210\ttotal: 10.3s\tremaining: 8.05s\n",
      "561:\tlearn: 0.0677207\ttotal: 10.3s\tremaining: 8.02s\n",
      "562:\tlearn: 0.0677204\ttotal: 10.3s\tremaining: 8s\n",
      "563:\tlearn: 0.0677203\ttotal: 10.3s\tremaining: 7.98s\n",
      "564:\tlearn: 0.0677200\ttotal: 10.3s\tremaining: 7.95s\n",
      "565:\tlearn: 0.0677198\ttotal: 10.4s\tremaining: 7.94s\n",
      "566:\tlearn: 0.0677197\ttotal: 10.4s\tremaining: 7.92s\n",
      "567:\tlearn: 0.0677193\ttotal: 10.4s\tremaining: 7.9s\n",
      "568:\tlearn: 0.0677191\ttotal: 10.4s\tremaining: 7.88s\n",
      "569:\tlearn: 0.0677189\ttotal: 10.4s\tremaining: 7.86s\n",
      "570:\tlearn: 0.0677187\ttotal: 10.4s\tremaining: 7.84s\n",
      "571:\tlearn: 0.0677185\ttotal: 10.5s\tremaining: 7.83s\n",
      "572:\tlearn: 0.0677184\ttotal: 10.5s\tremaining: 7.82s\n",
      "573:\tlearn: 0.0677181\ttotal: 10.5s\tremaining: 7.8s\n",
      "574:\tlearn: 0.0677178\ttotal: 10.5s\tremaining: 7.79s\n",
      "575:\tlearn: 0.0677177\ttotal: 10.6s\tremaining: 7.78s\n",
      "576:\tlearn: 0.0677176\ttotal: 10.6s\tremaining: 7.76s\n",
      "577:\tlearn: 0.0677174\ttotal: 10.7s\tremaining: 7.78s\n",
      "578:\tlearn: 0.0677172\ttotal: 10.7s\tremaining: 7.77s\n",
      "579:\tlearn: 0.0677169\ttotal: 10.7s\tremaining: 7.76s\n",
      "580:\tlearn: 0.0677167\ttotal: 10.8s\tremaining: 7.75s\n",
      "581:\tlearn: 0.0677164\ttotal: 10.8s\tremaining: 7.73s\n",
      "582:\tlearn: 0.0677163\ttotal: 10.8s\tremaining: 7.72s\n",
      "583:\tlearn: 0.0677162\ttotal: 10.8s\tremaining: 7.69s\n",
      "584:\tlearn: 0.0677158\ttotal: 10.8s\tremaining: 7.67s\n",
      "585:\tlearn: 0.0677157\ttotal: 10.8s\tremaining: 7.66s\n",
      "586:\tlearn: 0.0677156\ttotal: 10.9s\tremaining: 7.64s\n",
      "587:\tlearn: 0.0677153\ttotal: 10.9s\tremaining: 7.61s\n",
      "588:\tlearn: 0.0677152\ttotal: 10.9s\tremaining: 7.59s\n",
      "589:\tlearn: 0.0677151\ttotal: 10.9s\tremaining: 7.57s\n",
      "590:\tlearn: 0.0677150\ttotal: 10.9s\tremaining: 7.55s\n",
      "591:\tlearn: 0.0677149\ttotal: 10.9s\tremaining: 7.52s\n",
      "592:\tlearn: 0.0677148\ttotal: 10.9s\tremaining: 7.5s\n",
      "593:\tlearn: 0.0677146\ttotal: 10.9s\tremaining: 7.48s\n",
      "594:\tlearn: 0.0677145\ttotal: 11s\tremaining: 7.46s\n",
      "595:\tlearn: 0.0677143\ttotal: 11s\tremaining: 7.43s\n",
      "596:\tlearn: 0.0677142\ttotal: 11s\tremaining: 7.41s\n",
      "597:\tlearn: 0.0677139\ttotal: 11s\tremaining: 7.39s\n",
      "598:\tlearn: 0.0677138\ttotal: 11s\tremaining: 7.36s\n",
      "599:\tlearn: 0.0677135\ttotal: 11s\tremaining: 7.34s\n",
      "600:\tlearn: 0.0677133\ttotal: 11s\tremaining: 7.33s\n",
      "601:\tlearn: 0.0677132\ttotal: 11.1s\tremaining: 7.32s\n",
      "602:\tlearn: 0.0677129\ttotal: 11.1s\tremaining: 7.3s\n",
      "603:\tlearn: 0.0677127\ttotal: 11.1s\tremaining: 7.29s\n",
      "604:\tlearn: 0.0677126\ttotal: 11.1s\tremaining: 7.27s\n",
      "605:\tlearn: 0.0677123\ttotal: 11.2s\tremaining: 7.25s\n",
      "606:\tlearn: 0.0677121\ttotal: 11.2s\tremaining: 7.24s\n",
      "607:\tlearn: 0.0677121\ttotal: 11.2s\tremaining: 7.22s\n",
      "608:\tlearn: 0.0677119\ttotal: 11.2s\tremaining: 7.21s\n",
      "609:\tlearn: 0.0677115\ttotal: 11.2s\tremaining: 7.18s\n",
      "610:\tlearn: 0.0677114\ttotal: 11.3s\tremaining: 7.17s\n",
      "611:\tlearn: 0.0677113\ttotal: 11.3s\tremaining: 7.15s\n",
      "612:\tlearn: 0.0677109\ttotal: 11.3s\tremaining: 7.14s\n",
      "613:\tlearn: 0.0677107\ttotal: 11.3s\tremaining: 7.13s\n",
      "614:\tlearn: 0.0677105\ttotal: 11.4s\tremaining: 7.11s\n",
      "615:\tlearn: 0.0677104\ttotal: 11.4s\tremaining: 7.09s\n",
      "616:\tlearn: 0.0677103\ttotal: 11.4s\tremaining: 7.08s\n",
      "617:\tlearn: 0.0677102\ttotal: 11.4s\tremaining: 7.07s\n",
      "618:\tlearn: 0.0677099\ttotal: 11.5s\tremaining: 7.05s\n",
      "619:\tlearn: 0.0677097\ttotal: 11.5s\tremaining: 7.04s\n",
      "620:\tlearn: 0.0677094\ttotal: 11.5s\tremaining: 7.02s\n",
      "621:\tlearn: 0.0677092\ttotal: 11.5s\tremaining: 7s\n",
      "622:\tlearn: 0.0677089\ttotal: 11.6s\tremaining: 6.99s\n",
      "623:\tlearn: 0.0677088\ttotal: 11.6s\tremaining: 6.97s\n",
      "624:\tlearn: 0.0677086\ttotal: 11.6s\tremaining: 6.96s\n",
      "625:\tlearn: 0.0677084\ttotal: 11.6s\tremaining: 6.94s\n",
      "626:\tlearn: 0.0677083\ttotal: 11.6s\tremaining: 6.92s\n",
      "627:\tlearn: 0.0677082\ttotal: 11.7s\tremaining: 6.9s\n",
      "628:\tlearn: 0.0677080\ttotal: 11.7s\tremaining: 6.89s\n",
      "629:\tlearn: 0.0677079\ttotal: 11.7s\tremaining: 6.87s\n",
      "630:\tlearn: 0.0677076\ttotal: 11.7s\tremaining: 6.85s\n",
      "631:\tlearn: 0.0677075\ttotal: 11.7s\tremaining: 6.83s\n",
      "632:\tlearn: 0.0677073\ttotal: 11.7s\tremaining: 6.8s\n",
      "633:\tlearn: 0.0677072\ttotal: 11.7s\tremaining: 6.78s\n",
      "634:\tlearn: 0.0677069\ttotal: 11.8s\tremaining: 6.76s\n",
      "635:\tlearn: 0.0677068\ttotal: 11.8s\tremaining: 6.74s\n",
      "636:\tlearn: 0.0677066\ttotal: 11.8s\tremaining: 6.71s\n",
      "637:\tlearn: 0.0677064\ttotal: 11.8s\tremaining: 6.69s\n",
      "638:\tlearn: 0.0677062\ttotal: 11.8s\tremaining: 6.67s\n",
      "639:\tlearn: 0.0677060\ttotal: 11.8s\tremaining: 6.65s\n",
      "640:\tlearn: 0.0677058\ttotal: 11.8s\tremaining: 6.63s\n",
      "641:\tlearn: 0.0677056\ttotal: 11.9s\tremaining: 6.61s\n",
      "642:\tlearn: 0.0677054\ttotal: 11.9s\tremaining: 6.59s\n",
      "643:\tlearn: 0.0677052\ttotal: 11.9s\tremaining: 6.57s\n",
      "644:\tlearn: 0.0677051\ttotal: 11.9s\tremaining: 6.54s\n",
      "645:\tlearn: 0.0677049\ttotal: 11.9s\tremaining: 6.52s\n",
      "646:\tlearn: 0.0677048\ttotal: 11.9s\tremaining: 6.5s\n",
      "647:\tlearn: 0.0677044\ttotal: 11.9s\tremaining: 6.48s\n",
      "648:\tlearn: 0.0677044\ttotal: 11.9s\tremaining: 6.46s\n",
      "649:\tlearn: 0.0677041\ttotal: 11.9s\tremaining: 6.43s\n",
      "650:\tlearn: 0.0677040\ttotal: 12s\tremaining: 6.41s\n",
      "651:\tlearn: 0.0677039\ttotal: 12s\tremaining: 6.39s\n",
      "652:\tlearn: 0.0677037\ttotal: 12s\tremaining: 6.37s\n",
      "653:\tlearn: 0.0677035\ttotal: 12s\tremaining: 6.34s\n",
      "654:\tlearn: 0.0677034\ttotal: 12s\tremaining: 6.32s\n",
      "655:\tlearn: 0.0677033\ttotal: 12s\tremaining: 6.3s\n",
      "656:\tlearn: 0.0677031\ttotal: 12s\tremaining: 6.28s\n",
      "657:\tlearn: 0.0677030\ttotal: 12s\tremaining: 6.26s\n",
      "658:\tlearn: 0.0677028\ttotal: 12.1s\tremaining: 6.24s\n",
      "659:\tlearn: 0.0677026\ttotal: 12.1s\tremaining: 6.22s\n",
      "660:\tlearn: 0.0677025\ttotal: 12.1s\tremaining: 6.2s\n",
      "661:\tlearn: 0.0677024\ttotal: 12.1s\tremaining: 6.17s\n",
      "662:\tlearn: 0.0677023\ttotal: 12.1s\tremaining: 6.15s\n",
      "663:\tlearn: 0.0677021\ttotal: 12.1s\tremaining: 6.13s\n",
      "664:\tlearn: 0.0677019\ttotal: 12.1s\tremaining: 6.11s\n",
      "665:\tlearn: 0.0677017\ttotal: 12.1s\tremaining: 6.09s\n",
      "666:\tlearn: 0.0677016\ttotal: 12.2s\tremaining: 6.07s\n",
      "667:\tlearn: 0.0677015\ttotal: 12.2s\tremaining: 6.04s\n",
      "668:\tlearn: 0.0677014\ttotal: 12.2s\tremaining: 6.02s\n",
      "669:\tlearn: 0.0677013\ttotal: 12.2s\tremaining: 6s\n",
      "670:\tlearn: 0.0677012\ttotal: 12.2s\tremaining: 5.98s\n"
     ]
    },
    {
     "name": "stdout",
     "output_type": "stream",
     "text": [
      "671:\tlearn: 0.0677010\ttotal: 12.2s\tremaining: 5.96s\n",
      "672:\tlearn: 0.0677008\ttotal: 12.2s\tremaining: 5.94s\n",
      "673:\tlearn: 0.0677007\ttotal: 12.3s\tremaining: 5.93s\n",
      "674:\tlearn: 0.0677006\ttotal: 12.3s\tremaining: 5.91s\n",
      "675:\tlearn: 0.0677004\ttotal: 12.3s\tremaining: 5.89s\n",
      "676:\tlearn: 0.0677003\ttotal: 12.3s\tremaining: 5.88s\n",
      "677:\tlearn: 0.0677000\ttotal: 12.3s\tremaining: 5.86s\n",
      "678:\tlearn: 0.0677000\ttotal: 12.4s\tremaining: 5.84s\n",
      "679:\tlearn: 0.0676996\ttotal: 12.4s\tremaining: 5.83s\n",
      "680:\tlearn: 0.0676995\ttotal: 12.4s\tremaining: 5.82s\n",
      "681:\tlearn: 0.0676995\ttotal: 12.4s\tremaining: 5.8s\n",
      "682:\tlearn: 0.0676993\ttotal: 12.4s\tremaining: 5.78s\n",
      "683:\tlearn: 0.0676992\ttotal: 12.5s\tremaining: 5.75s\n",
      "684:\tlearn: 0.0676991\ttotal: 12.5s\tremaining: 5.73s\n",
      "685:\tlearn: 0.0676988\ttotal: 12.5s\tremaining: 5.71s\n",
      "686:\tlearn: 0.0676987\ttotal: 12.5s\tremaining: 5.69s\n",
      "687:\tlearn: 0.0676986\ttotal: 12.5s\tremaining: 5.67s\n",
      "688:\tlearn: 0.0676985\ttotal: 12.5s\tremaining: 5.65s\n",
      "689:\tlearn: 0.0676983\ttotal: 12.5s\tremaining: 5.63s\n",
      "690:\tlearn: 0.0676980\ttotal: 12.5s\tremaining: 5.61s\n",
      "691:\tlearn: 0.0676978\ttotal: 12.5s\tremaining: 5.58s\n",
      "692:\tlearn: 0.0676977\ttotal: 12.6s\tremaining: 5.56s\n",
      "693:\tlearn: 0.0676976\ttotal: 12.6s\tremaining: 5.54s\n",
      "694:\tlearn: 0.0676972\ttotal: 12.6s\tremaining: 5.52s\n",
      "695:\tlearn: 0.0676972\ttotal: 12.6s\tremaining: 5.5s\n",
      "696:\tlearn: 0.0676970\ttotal: 12.6s\tremaining: 5.48s\n",
      "697:\tlearn: 0.0676967\ttotal: 12.6s\tremaining: 5.46s\n",
      "698:\tlearn: 0.0676966\ttotal: 12.6s\tremaining: 5.44s\n",
      "699:\tlearn: 0.0676965\ttotal: 12.7s\tremaining: 5.42s\n",
      "700:\tlearn: 0.0676964\ttotal: 12.7s\tremaining: 5.4s\n",
      "701:\tlearn: 0.0676962\ttotal: 12.7s\tremaining: 5.38s\n",
      "702:\tlearn: 0.0676960\ttotal: 12.7s\tremaining: 5.36s\n",
      "703:\tlearn: 0.0676959\ttotal: 12.7s\tremaining: 5.34s\n",
      "704:\tlearn: 0.0676959\ttotal: 12.7s\tremaining: 5.32s\n",
      "705:\tlearn: 0.0676957\ttotal: 12.7s\tremaining: 5.3s\n",
      "706:\tlearn: 0.0676955\ttotal: 12.7s\tremaining: 5.28s\n",
      "707:\tlearn: 0.0676952\ttotal: 12.7s\tremaining: 5.26s\n",
      "708:\tlearn: 0.0676951\ttotal: 12.8s\tremaining: 5.24s\n",
      "709:\tlearn: 0.0676948\ttotal: 12.8s\tremaining: 5.22s\n",
      "710:\tlearn: 0.0676947\ttotal: 12.8s\tremaining: 5.2s\n",
      "711:\tlearn: 0.0676945\ttotal: 12.8s\tremaining: 5.19s\n",
      "712:\tlearn: 0.0676943\ttotal: 12.8s\tremaining: 5.17s\n",
      "713:\tlearn: 0.0676941\ttotal: 12.9s\tremaining: 5.15s\n",
      "714:\tlearn: 0.0676939\ttotal: 12.9s\tremaining: 5.13s\n",
      "715:\tlearn: 0.0676939\ttotal: 12.9s\tremaining: 5.11s\n",
      "716:\tlearn: 0.0676937\ttotal: 12.9s\tremaining: 5.1s\n",
      "717:\tlearn: 0.0676937\ttotal: 12.9s\tremaining: 5.08s\n",
      "718:\tlearn: 0.0676936\ttotal: 12.9s\tremaining: 5.05s\n",
      "719:\tlearn: 0.0676934\ttotal: 12.9s\tremaining: 5.03s\n",
      "720:\tlearn: 0.0676933\ttotal: 13s\tremaining: 5.01s\n",
      "721:\tlearn: 0.0676933\ttotal: 13s\tremaining: 4.99s\n",
      "722:\tlearn: 0.0676930\ttotal: 13s\tremaining: 4.97s\n",
      "723:\tlearn: 0.0676929\ttotal: 13s\tremaining: 4.95s\n",
      "724:\tlearn: 0.0676927\ttotal: 13s\tremaining: 4.93s\n",
      "725:\tlearn: 0.0676925\ttotal: 13s\tremaining: 4.91s\n",
      "726:\tlearn: 0.0676924\ttotal: 13s\tremaining: 4.89s\n",
      "727:\tlearn: 0.0676923\ttotal: 13s\tremaining: 4.87s\n",
      "728:\tlearn: 0.0676922\ttotal: 13.1s\tremaining: 4.86s\n",
      "729:\tlearn: 0.0676919\ttotal: 13.1s\tremaining: 4.84s\n",
      "730:\tlearn: 0.0676917\ttotal: 13.1s\tremaining: 4.82s\n",
      "731:\tlearn: 0.0676915\ttotal: 13.1s\tremaining: 4.8s\n",
      "732:\tlearn: 0.0676915\ttotal: 13.1s\tremaining: 4.78s\n",
      "733:\tlearn: 0.0676913\ttotal: 13.1s\tremaining: 4.76s\n",
      "734:\tlearn: 0.0676911\ttotal: 13.2s\tremaining: 4.74s\n",
      "735:\tlearn: 0.0676910\ttotal: 13.2s\tremaining: 4.72s\n",
      "736:\tlearn: 0.0676909\ttotal: 13.2s\tremaining: 4.71s\n",
      "737:\tlearn: 0.0676908\ttotal: 13.2s\tremaining: 4.68s\n",
      "738:\tlearn: 0.0676906\ttotal: 13.2s\tremaining: 4.67s\n",
      "739:\tlearn: 0.0676906\ttotal: 13.2s\tremaining: 4.65s\n",
      "740:\tlearn: 0.0676905\ttotal: 13.2s\tremaining: 4.63s\n",
      "741:\tlearn: 0.0676904\ttotal: 13.3s\tremaining: 4.61s\n",
      "742:\tlearn: 0.0676903\ttotal: 13.3s\tremaining: 4.59s\n",
      "743:\tlearn: 0.0676902\ttotal: 13.3s\tremaining: 4.58s\n",
      "744:\tlearn: 0.0676902\ttotal: 13.3s\tremaining: 4.56s\n",
      "745:\tlearn: 0.0676901\ttotal: 13.3s\tremaining: 4.54s\n",
      "746:\tlearn: 0.0676900\ttotal: 13.3s\tremaining: 4.52s\n",
      "747:\tlearn: 0.0676898\ttotal: 13.4s\tremaining: 4.5s\n",
      "748:\tlearn: 0.0676897\ttotal: 13.4s\tremaining: 4.48s\n",
      "749:\tlearn: 0.0676897\ttotal: 13.4s\tremaining: 4.46s\n",
      "750:\tlearn: 0.0676895\ttotal: 13.4s\tremaining: 4.44s\n",
      "751:\tlearn: 0.0676894\ttotal: 13.4s\tremaining: 4.42s\n",
      "752:\tlearn: 0.0676892\ttotal: 13.4s\tremaining: 4.4s\n",
      "753:\tlearn: 0.0676891\ttotal: 13.4s\tremaining: 4.38s\n",
      "754:\tlearn: 0.0676890\ttotal: 13.4s\tremaining: 4.36s\n",
      "755:\tlearn: 0.0676889\ttotal: 13.5s\tremaining: 4.34s\n",
      "756:\tlearn: 0.0676888\ttotal: 13.5s\tremaining: 4.33s\n",
      "757:\tlearn: 0.0676886\ttotal: 13.5s\tremaining: 4.31s\n",
      "758:\tlearn: 0.0676885\ttotal: 13.5s\tremaining: 4.29s\n",
      "759:\tlearn: 0.0676884\ttotal: 13.5s\tremaining: 4.27s\n",
      "760:\tlearn: 0.0676883\ttotal: 13.5s\tremaining: 4.25s\n",
      "761:\tlearn: 0.0676882\ttotal: 13.6s\tremaining: 4.23s\n",
      "762:\tlearn: 0.0676880\ttotal: 13.6s\tremaining: 4.21s\n",
      "763:\tlearn: 0.0676880\ttotal: 13.6s\tremaining: 4.19s\n",
      "764:\tlearn: 0.0676878\ttotal: 13.6s\tremaining: 4.17s\n",
      "765:\tlearn: 0.0676876\ttotal: 13.6s\tremaining: 4.15s\n",
      "766:\tlearn: 0.0676874\ttotal: 13.6s\tremaining: 4.13s\n",
      "767:\tlearn: 0.0676873\ttotal: 13.6s\tremaining: 4.12s\n",
      "768:\tlearn: 0.0676871\ttotal: 13.6s\tremaining: 4.09s\n",
      "769:\tlearn: 0.0676870\ttotal: 13.6s\tremaining: 4.08s\n",
      "770:\tlearn: 0.0676869\ttotal: 13.7s\tremaining: 4.06s\n",
      "771:\tlearn: 0.0676868\ttotal: 13.7s\tremaining: 4.04s\n",
      "772:\tlearn: 0.0676867\ttotal: 13.7s\tremaining: 4.02s\n",
      "773:\tlearn: 0.0676867\ttotal: 13.7s\tremaining: 4s\n",
      "774:\tlearn: 0.0676865\ttotal: 13.7s\tremaining: 3.98s\n",
      "775:\tlearn: 0.0676864\ttotal: 13.7s\tremaining: 3.96s\n",
      "776:\tlearn: 0.0676863\ttotal: 13.7s\tremaining: 3.94s\n",
      "777:\tlearn: 0.0676863\ttotal: 13.8s\tremaining: 3.92s\n",
      "778:\tlearn: 0.0676862\ttotal: 13.8s\tremaining: 3.91s\n",
      "779:\tlearn: 0.0676861\ttotal: 13.8s\tremaining: 3.89s\n",
      "780:\tlearn: 0.0676861\ttotal: 13.8s\tremaining: 3.87s\n",
      "781:\tlearn: 0.0676858\ttotal: 13.8s\tremaining: 3.85s\n",
      "782:\tlearn: 0.0676857\ttotal: 13.8s\tremaining: 3.83s\n",
      "783:\tlearn: 0.0676855\ttotal: 13.8s\tremaining: 3.81s\n",
      "784:\tlearn: 0.0676852\ttotal: 13.8s\tremaining: 3.79s\n",
      "785:\tlearn: 0.0676851\ttotal: 13.8s\tremaining: 3.77s\n",
      "786:\tlearn: 0.0676850\ttotal: 13.9s\tremaining: 3.75s\n",
      "787:\tlearn: 0.0676849\ttotal: 13.9s\tremaining: 3.73s\n",
      "788:\tlearn: 0.0676848\ttotal: 13.9s\tremaining: 3.71s\n",
      "789:\tlearn: 0.0676848\ttotal: 13.9s\tremaining: 3.7s\n",
      "790:\tlearn: 0.0676846\ttotal: 13.9s\tremaining: 3.68s\n",
      "791:\tlearn: 0.0676845\ttotal: 13.9s\tremaining: 3.66s\n",
      "792:\tlearn: 0.0676843\ttotal: 13.9s\tremaining: 3.64s\n",
      "793:\tlearn: 0.0676842\ttotal: 13.9s\tremaining: 3.62s\n",
      "794:\tlearn: 0.0676841\ttotal: 14s\tremaining: 3.6s\n",
      "795:\tlearn: 0.0676840\ttotal: 14s\tremaining: 3.58s\n",
      "796:\tlearn: 0.0676838\ttotal: 14s\tremaining: 3.56s\n",
      "797:\tlearn: 0.0676837\ttotal: 14s\tremaining: 3.54s\n",
      "798:\tlearn: 0.0676836\ttotal: 14s\tremaining: 3.52s\n",
      "799:\tlearn: 0.0676834\ttotal: 14s\tremaining: 3.5s\n",
      "800:\tlearn: 0.0676832\ttotal: 14s\tremaining: 3.48s\n",
      "801:\tlearn: 0.0676832\ttotal: 14s\tremaining: 3.47s\n",
      "802:\tlearn: 0.0676831\ttotal: 14.1s\tremaining: 3.45s\n",
      "803:\tlearn: 0.0676828\ttotal: 14.1s\tremaining: 3.43s\n",
      "804:\tlearn: 0.0676827\ttotal: 14.1s\tremaining: 3.42s\n",
      "805:\tlearn: 0.0676826\ttotal: 14.1s\tremaining: 3.4s\n",
      "806:\tlearn: 0.0676825\ttotal: 14.1s\tremaining: 3.38s\n",
      "807:\tlearn: 0.0676823\ttotal: 14.1s\tremaining: 3.36s\n",
      "808:\tlearn: 0.0676822\ttotal: 14.1s\tremaining: 3.34s\n",
      "809:\tlearn: 0.0676819\ttotal: 14.2s\tremaining: 3.32s\n",
      "810:\tlearn: 0.0676816\ttotal: 14.2s\tremaining: 3.3s\n",
      "811:\tlearn: 0.0676815\ttotal: 14.2s\tremaining: 3.28s\n",
      "812:\tlearn: 0.0676814\ttotal: 14.2s\tremaining: 3.26s\n",
      "813:\tlearn: 0.0676813\ttotal: 14.2s\tremaining: 3.25s\n",
      "814:\tlearn: 0.0676812\ttotal: 14.2s\tremaining: 3.23s\n",
      "815:\tlearn: 0.0676811\ttotal: 14.2s\tremaining: 3.21s\n",
      "816:\tlearn: 0.0676810\ttotal: 14.2s\tremaining: 3.19s\n",
      "817:\tlearn: 0.0676809\ttotal: 14.2s\tremaining: 3.17s\n",
      "818:\tlearn: 0.0676808\ttotal: 14.3s\tremaining: 3.15s\n",
      "819:\tlearn: 0.0676807\ttotal: 14.3s\tremaining: 3.13s\n",
      "820:\tlearn: 0.0676804\ttotal: 14.3s\tremaining: 3.12s\n",
      "821:\tlearn: 0.0676803\ttotal: 14.3s\tremaining: 3.1s\n",
      "822:\tlearn: 0.0676803\ttotal: 14.3s\tremaining: 3.08s\n",
      "823:\tlearn: 0.0676801\ttotal: 14.3s\tremaining: 3.06s\n",
      "824:\tlearn: 0.0676800\ttotal: 14.3s\tremaining: 3.04s\n",
      "825:\tlearn: 0.0676799\ttotal: 14.3s\tremaining: 3.02s\n",
      "826:\tlearn: 0.0676798\ttotal: 14.4s\tremaining: 3s\n",
      "827:\tlearn: 0.0676796\ttotal: 14.4s\tremaining: 2.98s\n",
      "828:\tlearn: 0.0676795\ttotal: 14.4s\tremaining: 2.97s\n",
      "829:\tlearn: 0.0676794\ttotal: 14.4s\tremaining: 2.95s\n",
      "830:\tlearn: 0.0676792\ttotal: 14.4s\tremaining: 2.93s\n",
      "831:\tlearn: 0.0676791\ttotal: 14.4s\tremaining: 2.91s\n",
      "832:\tlearn: 0.0676789\ttotal: 14.4s\tremaining: 2.89s\n",
      "833:\tlearn: 0.0676787\ttotal: 14.4s\tremaining: 2.87s\n"
     ]
    },
    {
     "name": "stdout",
     "output_type": "stream",
     "text": [
      "834:\tlearn: 0.0676786\ttotal: 14.5s\tremaining: 2.86s\n",
      "835:\tlearn: 0.0676785\ttotal: 14.5s\tremaining: 2.84s\n",
      "836:\tlearn: 0.0676784\ttotal: 14.5s\tremaining: 2.82s\n",
      "837:\tlearn: 0.0676783\ttotal: 14.5s\tremaining: 2.8s\n",
      "838:\tlearn: 0.0676782\ttotal: 14.5s\tremaining: 2.79s\n",
      "839:\tlearn: 0.0676780\ttotal: 14.5s\tremaining: 2.77s\n",
      "840:\tlearn: 0.0676779\ttotal: 14.5s\tremaining: 2.75s\n",
      "841:\tlearn: 0.0676778\ttotal: 14.6s\tremaining: 2.73s\n",
      "842:\tlearn: 0.0676777\ttotal: 14.6s\tremaining: 2.71s\n",
      "843:\tlearn: 0.0676776\ttotal: 14.6s\tremaining: 2.69s\n",
      "844:\tlearn: 0.0676776\ttotal: 14.6s\tremaining: 2.67s\n",
      "845:\tlearn: 0.0676775\ttotal: 14.6s\tremaining: 2.66s\n",
      "846:\tlearn: 0.0676773\ttotal: 14.6s\tremaining: 2.64s\n",
      "847:\tlearn: 0.0676772\ttotal: 14.6s\tremaining: 2.62s\n",
      "848:\tlearn: 0.0676771\ttotal: 14.6s\tremaining: 2.6s\n",
      "849:\tlearn: 0.0676769\ttotal: 14.6s\tremaining: 2.58s\n",
      "850:\tlearn: 0.0676768\ttotal: 14.7s\tremaining: 2.57s\n",
      "851:\tlearn: 0.0676767\ttotal: 14.7s\tremaining: 2.55s\n",
      "852:\tlearn: 0.0676767\ttotal: 14.7s\tremaining: 2.53s\n",
      "853:\tlearn: 0.0676766\ttotal: 14.7s\tremaining: 2.52s\n",
      "854:\tlearn: 0.0676764\ttotal: 14.7s\tremaining: 2.5s\n",
      "855:\tlearn: 0.0676763\ttotal: 14.7s\tremaining: 2.48s\n",
      "856:\tlearn: 0.0676760\ttotal: 14.7s\tremaining: 2.46s\n",
      "857:\tlearn: 0.0676759\ttotal: 14.8s\tremaining: 2.44s\n",
      "858:\tlearn: 0.0676758\ttotal: 14.8s\tremaining: 2.42s\n",
      "859:\tlearn: 0.0676756\ttotal: 14.8s\tremaining: 2.41s\n",
      "860:\tlearn: 0.0676755\ttotal: 14.8s\tremaining: 2.39s\n",
      "861:\tlearn: 0.0676754\ttotal: 14.8s\tremaining: 2.37s\n",
      "862:\tlearn: 0.0676753\ttotal: 14.8s\tremaining: 2.35s\n",
      "863:\tlearn: 0.0676752\ttotal: 14.8s\tremaining: 2.33s\n",
      "864:\tlearn: 0.0676751\ttotal: 14.8s\tremaining: 2.31s\n",
      "865:\tlearn: 0.0676750\ttotal: 14.8s\tremaining: 2.3s\n",
      "866:\tlearn: 0.0676749\ttotal: 14.9s\tremaining: 2.28s\n",
      "867:\tlearn: 0.0676748\ttotal: 14.9s\tremaining: 2.26s\n",
      "868:\tlearn: 0.0676748\ttotal: 14.9s\tremaining: 2.24s\n",
      "869:\tlearn: 0.0676747\ttotal: 14.9s\tremaining: 2.23s\n",
      "870:\tlearn: 0.0676746\ttotal: 14.9s\tremaining: 2.21s\n",
      "871:\tlearn: 0.0676744\ttotal: 14.9s\tremaining: 2.19s\n",
      "872:\tlearn: 0.0676743\ttotal: 14.9s\tremaining: 2.17s\n",
      "873:\tlearn: 0.0676742\ttotal: 14.9s\tremaining: 2.15s\n",
      "874:\tlearn: 0.0676742\ttotal: 15s\tremaining: 2.14s\n",
      "875:\tlearn: 0.0676740\ttotal: 15s\tremaining: 2.12s\n",
      "876:\tlearn: 0.0676739\ttotal: 15s\tremaining: 2.1s\n",
      "877:\tlearn: 0.0676737\ttotal: 15s\tremaining: 2.08s\n",
      "878:\tlearn: 0.0676737\ttotal: 15s\tremaining: 2.06s\n",
      "879:\tlearn: 0.0676735\ttotal: 15s\tremaining: 2.05s\n",
      "880:\tlearn: 0.0676734\ttotal: 15s\tremaining: 2.03s\n",
      "881:\tlearn: 0.0676732\ttotal: 15s\tremaining: 2.01s\n",
      "882:\tlearn: 0.0676731\ttotal: 15s\tremaining: 1.99s\n",
      "883:\tlearn: 0.0676729\ttotal: 15.1s\tremaining: 1.98s\n",
      "884:\tlearn: 0.0676728\ttotal: 15.1s\tremaining: 1.96s\n",
      "885:\tlearn: 0.0676728\ttotal: 15.1s\tremaining: 1.94s\n",
      "886:\tlearn: 0.0676726\ttotal: 15.1s\tremaining: 1.92s\n",
      "887:\tlearn: 0.0676725\ttotal: 15.1s\tremaining: 1.91s\n",
      "888:\tlearn: 0.0676724\ttotal: 15.1s\tremaining: 1.89s\n",
      "889:\tlearn: 0.0676723\ttotal: 15.1s\tremaining: 1.87s\n",
      "890:\tlearn: 0.0676721\ttotal: 15.1s\tremaining: 1.85s\n",
      "891:\tlearn: 0.0676720\ttotal: 15.2s\tremaining: 1.83s\n",
      "892:\tlearn: 0.0676718\ttotal: 15.2s\tremaining: 1.82s\n",
      "893:\tlearn: 0.0676717\ttotal: 15.2s\tremaining: 1.8s\n",
      "894:\tlearn: 0.0676716\ttotal: 15.2s\tremaining: 1.78s\n",
      "895:\tlearn: 0.0676714\ttotal: 15.2s\tremaining: 1.76s\n",
      "896:\tlearn: 0.0676713\ttotal: 15.2s\tremaining: 1.75s\n",
      "897:\tlearn: 0.0676712\ttotal: 15.2s\tremaining: 1.73s\n",
      "898:\tlearn: 0.0676711\ttotal: 15.2s\tremaining: 1.71s\n",
      "899:\tlearn: 0.0676711\ttotal: 15.2s\tremaining: 1.69s\n",
      "900:\tlearn: 0.0676708\ttotal: 15.3s\tremaining: 1.68s\n",
      "901:\tlearn: 0.0676705\ttotal: 15.3s\tremaining: 1.66s\n",
      "902:\tlearn: 0.0676705\ttotal: 15.3s\tremaining: 1.64s\n",
      "903:\tlearn: 0.0676704\ttotal: 15.3s\tremaining: 1.62s\n",
      "904:\tlearn: 0.0676703\ttotal: 15.3s\tremaining: 1.61s\n",
      "905:\tlearn: 0.0676702\ttotal: 15.3s\tremaining: 1.59s\n",
      "906:\tlearn: 0.0676701\ttotal: 15.3s\tremaining: 1.57s\n",
      "907:\tlearn: 0.0676700\ttotal: 15.3s\tremaining: 1.55s\n",
      "908:\tlearn: 0.0676698\ttotal: 15.4s\tremaining: 1.54s\n",
      "909:\tlearn: 0.0676696\ttotal: 15.4s\tremaining: 1.52s\n",
      "910:\tlearn: 0.0676695\ttotal: 15.4s\tremaining: 1.5s\n",
      "911:\tlearn: 0.0676694\ttotal: 15.4s\tremaining: 1.49s\n",
      "912:\tlearn: 0.0676694\ttotal: 15.4s\tremaining: 1.47s\n",
      "913:\tlearn: 0.0676692\ttotal: 15.4s\tremaining: 1.45s\n",
      "914:\tlearn: 0.0676692\ttotal: 15.4s\tremaining: 1.43s\n",
      "915:\tlearn: 0.0676691\ttotal: 15.4s\tremaining: 1.42s\n",
      "916:\tlearn: 0.0676690\ttotal: 15.4s\tremaining: 1.4s\n",
      "917:\tlearn: 0.0676688\ttotal: 15.5s\tremaining: 1.38s\n",
      "918:\tlearn: 0.0676687\ttotal: 15.5s\tremaining: 1.36s\n",
      "919:\tlearn: 0.0676684\ttotal: 15.5s\tremaining: 1.35s\n",
      "920:\tlearn: 0.0676683\ttotal: 15.5s\tremaining: 1.33s\n",
      "921:\tlearn: 0.0676683\ttotal: 15.5s\tremaining: 1.31s\n",
      "922:\tlearn: 0.0676682\ttotal: 15.5s\tremaining: 1.29s\n",
      "923:\tlearn: 0.0676679\ttotal: 15.5s\tremaining: 1.28s\n",
      "924:\tlearn: 0.0676679\ttotal: 15.5s\tremaining: 1.26s\n",
      "925:\tlearn: 0.0676678\ttotal: 15.6s\tremaining: 1.24s\n",
      "926:\tlearn: 0.0676676\ttotal: 15.6s\tremaining: 1.23s\n",
      "927:\tlearn: 0.0676675\ttotal: 15.6s\tremaining: 1.21s\n",
      "928:\tlearn: 0.0676675\ttotal: 15.6s\tremaining: 1.19s\n",
      "929:\tlearn: 0.0676674\ttotal: 15.6s\tremaining: 1.17s\n",
      "930:\tlearn: 0.0676671\ttotal: 15.6s\tremaining: 1.16s\n",
      "931:\tlearn: 0.0676669\ttotal: 15.6s\tremaining: 1.14s\n",
      "932:\tlearn: 0.0676669\ttotal: 15.6s\tremaining: 1.12s\n",
      "933:\tlearn: 0.0676668\ttotal: 15.6s\tremaining: 1.1s\n",
      "934:\tlearn: 0.0676668\ttotal: 15.7s\tremaining: 1.09s\n",
      "935:\tlearn: 0.0676667\ttotal: 15.7s\tremaining: 1.07s\n",
      "936:\tlearn: 0.0676665\ttotal: 15.7s\tremaining: 1.05s\n",
      "937:\tlearn: 0.0676663\ttotal: 15.7s\tremaining: 1.04s\n",
      "938:\tlearn: 0.0676663\ttotal: 15.7s\tremaining: 1.02s\n",
      "939:\tlearn: 0.0676661\ttotal: 15.7s\tremaining: 1s\n",
      "940:\tlearn: 0.0676660\ttotal: 15.7s\tremaining: 987ms\n",
      "941:\tlearn: 0.0676660\ttotal: 15.8s\tremaining: 970ms\n",
      "942:\tlearn: 0.0676659\ttotal: 15.8s\tremaining: 953ms\n",
      "943:\tlearn: 0.0676658\ttotal: 15.8s\tremaining: 936ms\n",
      "944:\tlearn: 0.0676656\ttotal: 15.8s\tremaining: 919ms\n",
      "945:\tlearn: 0.0676655\ttotal: 15.8s\tremaining: 902ms\n",
      "946:\tlearn: 0.0676655\ttotal: 15.8s\tremaining: 885ms\n",
      "947:\tlearn: 0.0676655\ttotal: 15.8s\tremaining: 868ms\n",
      "948:\tlearn: 0.0676654\ttotal: 15.8s\tremaining: 851ms\n",
      "949:\tlearn: 0.0676653\ttotal: 15.8s\tremaining: 834ms\n",
      "950:\tlearn: 0.0676652\ttotal: 15.9s\tremaining: 817ms\n",
      "951:\tlearn: 0.0676649\ttotal: 15.9s\tremaining: 800ms\n",
      "952:\tlearn: 0.0676647\ttotal: 15.9s\tremaining: 783ms\n",
      "953:\tlearn: 0.0676646\ttotal: 15.9s\tremaining: 766ms\n",
      "954:\tlearn: 0.0676643\ttotal: 15.9s\tremaining: 750ms\n",
      "955:\tlearn: 0.0676643\ttotal: 15.9s\tremaining: 733ms\n",
      "956:\tlearn: 0.0676642\ttotal: 15.9s\tremaining: 716ms\n",
      "957:\tlearn: 0.0676640\ttotal: 15.9s\tremaining: 699ms\n",
      "958:\tlearn: 0.0676639\ttotal: 16s\tremaining: 682ms\n",
      "959:\tlearn: 0.0676635\ttotal: 16s\tremaining: 665ms\n",
      "960:\tlearn: 0.0676634\ttotal: 16s\tremaining: 648ms\n",
      "961:\tlearn: 0.0676633\ttotal: 16s\tremaining: 632ms\n",
      "962:\tlearn: 0.0676632\ttotal: 16s\tremaining: 615ms\n",
      "963:\tlearn: 0.0676631\ttotal: 16s\tremaining: 598ms\n",
      "964:\tlearn: 0.0676630\ttotal: 16s\tremaining: 581ms\n",
      "965:\tlearn: 0.0676628\ttotal: 16s\tremaining: 564ms\n",
      "966:\tlearn: 0.0676627\ttotal: 16s\tremaining: 547ms\n",
      "967:\tlearn: 0.0676626\ttotal: 16.1s\tremaining: 531ms\n",
      "968:\tlearn: 0.0676625\ttotal: 16.1s\tremaining: 514ms\n",
      "969:\tlearn: 0.0676623\ttotal: 16.1s\tremaining: 497ms\n",
      "970:\tlearn: 0.0676623\ttotal: 16.1s\tremaining: 481ms\n",
      "971:\tlearn: 0.0676621\ttotal: 16.1s\tremaining: 464ms\n",
      "972:\tlearn: 0.0676620\ttotal: 16.1s\tremaining: 447ms\n",
      "973:\tlearn: 0.0676619\ttotal: 16.1s\tremaining: 431ms\n",
      "974:\tlearn: 0.0676619\ttotal: 16.1s\tremaining: 414ms\n",
      "975:\tlearn: 0.0676618\ttotal: 16.2s\tremaining: 397ms\n",
      "976:\tlearn: 0.0676617\ttotal: 16.2s\tremaining: 381ms\n",
      "977:\tlearn: 0.0676616\ttotal: 16.2s\tremaining: 364ms\n",
      "978:\tlearn: 0.0676614\ttotal: 16.2s\tremaining: 347ms\n",
      "979:\tlearn: 0.0676611\ttotal: 16.2s\tremaining: 331ms\n",
      "980:\tlearn: 0.0676610\ttotal: 16.2s\tremaining: 314ms\n",
      "981:\tlearn: 0.0676609\ttotal: 16.2s\tremaining: 298ms\n",
      "982:\tlearn: 0.0676609\ttotal: 16.2s\tremaining: 281ms\n",
      "983:\tlearn: 0.0676608\ttotal: 16.3s\tremaining: 264ms\n",
      "984:\tlearn: 0.0676607\ttotal: 16.3s\tremaining: 248ms\n",
      "985:\tlearn: 0.0676606\ttotal: 16.3s\tremaining: 231ms\n",
      "986:\tlearn: 0.0676605\ttotal: 16.3s\tremaining: 215ms\n",
      "987:\tlearn: 0.0676603\ttotal: 16.3s\tremaining: 198ms\n",
      "988:\tlearn: 0.0676602\ttotal: 16.3s\tremaining: 182ms\n",
      "989:\tlearn: 0.0676601\ttotal: 16.3s\tremaining: 165ms\n",
      "990:\tlearn: 0.0676600\ttotal: 16.3s\tremaining: 148ms\n",
      "991:\tlearn: 0.0676599\ttotal: 16.4s\tremaining: 132ms\n",
      "992:\tlearn: 0.0676597\ttotal: 16.4s\tremaining: 115ms\n",
      "993:\tlearn: 0.0676596\ttotal: 16.4s\tremaining: 98.9ms\n",
      "994:\tlearn: 0.0676594\ttotal: 16.4s\tremaining: 82.4ms\n",
      "995:\tlearn: 0.0676593\ttotal: 16.4s\tremaining: 65.9ms\n",
      "996:\tlearn: 0.0676593\ttotal: 16.4s\tremaining: 49.4ms\n",
      "997:\tlearn: 0.0676593\ttotal: 16.4s\tremaining: 32.9ms\n",
      "998:\tlearn: 0.0676591\ttotal: 16.4s\tremaining: 16.4ms\n",
      "999:\tlearn: 0.0676589\ttotal: 16.4s\tremaining: 0us\n"
     ]
    },
    {
     "data": {
      "text/plain": [
       "<catboost.core.CatBoostRegressor at 0x1a3824aef0>"
      ]
     },
     "execution_count": 422,
     "metadata": {},
     "output_type": "execute_result"
    }
   ],
   "source": [
    "from catboost import CatBoostRegressor\n",
    "model_cat =CatBoostRegressor(iterations = 1000,learning_rate = 0.01, depth=2, loss_function = 'MAE', \n",
    "                             eval_metric = 'MAE', random_seed = 2)\n",
    "model_cat.fit(X_scaled_train, y_train,)"
   ]
  },
  {
   "cell_type": "code",
   "execution_count": 423,
   "metadata": {},
   "outputs": [
    {
     "data": {
      "text/plain": [
       "0.02599959559529997"
      ]
     },
     "execution_count": 423,
     "metadata": {},
     "output_type": "execute_result"
    }
   ],
   "source": [
    "y_predict_cat = model_cat.predict(X_scaled_test)\n",
    "mean_squared_error(y_predict_cat,y_test)"
   ]
  },
  {
   "cell_type": "code",
   "execution_count": null,
   "metadata": {},
   "outputs": [],
   "source": []
  }
 ],
 "metadata": {
  "kernelspec": {
   "display_name": "Python 3",
   "language": "python",
   "name": "python3"
  },
  "language_info": {
   "codemirror_mode": {
    "name": "ipython",
    "version": 3
   },
   "file_extension": ".py",
   "mimetype": "text/x-python",
   "name": "python",
   "nbconvert_exporter": "python",
   "pygments_lexer": "ipython3",
   "version": "3.7.3"
  }
 },
 "nbformat": 4,
 "nbformat_minor": 2
}
